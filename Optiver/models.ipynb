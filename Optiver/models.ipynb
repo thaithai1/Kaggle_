{
 "cells": [
  {
   "cell_type": "code",
   "execution_count": 11,
   "metadata": {},
   "outputs": [
    {
     "name": "stdout",
     "output_type": "stream",
     "text": [
      "The autoreload extension is already loaded. To reload it, use:\n",
      "  %reload_ext autoreload\n"
     ]
    }
   ],
   "source": [
    "%load_ext autoreload\n",
    "%autoreload 2\n",
    "import math\n",
    "import pandas as pd\n",
    "import numpy as np\n",
    "import seaborn as sns\n",
    "import matplotlib.pyplot as plt\n",
    "from tqdm import tqdm\n",
    "from utils.data_manager import *\n",
    "from utils.metrics import *\n",
    "from utils.models import *\n",
    "from utils.preprocessing import *\n"
   ]
  },
  {
   "cell_type": "code",
   "execution_count": 5,
   "metadata": {},
   "outputs": [
    {
     "name": "stdout",
     "output_type": "stream",
     "text": [
      "data/optiver-trading-at-the-close/train.csv - loaded\n"
     ]
    },
    {
     "data": {
      "text/html": [
       "<div>\n",
       "<style scoped>\n",
       "    .dataframe tbody tr th:only-of-type {\n",
       "        vertical-align: middle;\n",
       "    }\n",
       "\n",
       "    .dataframe tbody tr th {\n",
       "        vertical-align: top;\n",
       "    }\n",
       "\n",
       "    .dataframe thead th {\n",
       "        text-align: right;\n",
       "    }\n",
       "</style>\n",
       "<table border=\"1\" class=\"dataframe\">\n",
       "  <thead>\n",
       "    <tr style=\"text-align: right;\">\n",
       "      <th></th>\n",
       "      <th>stock_id</th>\n",
       "      <th>date_id</th>\n",
       "      <th>seconds_in_bucket</th>\n",
       "      <th>imbalance_size</th>\n",
       "      <th>imbalance_buy_sell_flag</th>\n",
       "      <th>reference_price</th>\n",
       "      <th>matched_size</th>\n",
       "      <th>far_price</th>\n",
       "      <th>near_price</th>\n",
       "      <th>bid_price</th>\n",
       "      <th>bid_size</th>\n",
       "      <th>ask_price</th>\n",
       "      <th>ask_size</th>\n",
       "      <th>wap</th>\n",
       "      <th>target</th>\n",
       "      <th>time_id</th>\n",
       "    </tr>\n",
       "    <tr>\n",
       "      <th>row_id</th>\n",
       "      <th></th>\n",
       "      <th></th>\n",
       "      <th></th>\n",
       "      <th></th>\n",
       "      <th></th>\n",
       "      <th></th>\n",
       "      <th></th>\n",
       "      <th></th>\n",
       "      <th></th>\n",
       "      <th></th>\n",
       "      <th></th>\n",
       "      <th></th>\n",
       "      <th></th>\n",
       "      <th></th>\n",
       "      <th></th>\n",
       "      <th></th>\n",
       "    </tr>\n",
       "  </thead>\n",
       "  <tbody>\n",
       "    <tr>\n",
       "      <th>0_0_0</th>\n",
       "      <td>0</td>\n",
       "      <td>0</td>\n",
       "      <td>0</td>\n",
       "      <td>3180602.69</td>\n",
       "      <td>1</td>\n",
       "      <td>0.999812</td>\n",
       "      <td>13380276.64</td>\n",
       "      <td>NaN</td>\n",
       "      <td>NaN</td>\n",
       "      <td>0.999812</td>\n",
       "      <td>60651.50</td>\n",
       "      <td>1.000026</td>\n",
       "      <td>8493.03</td>\n",
       "      <td>1.0</td>\n",
       "      <td>-3.029704</td>\n",
       "      <td>0</td>\n",
       "    </tr>\n",
       "    <tr>\n",
       "      <th>0_0_1</th>\n",
       "      <td>1</td>\n",
       "      <td>0</td>\n",
       "      <td>0</td>\n",
       "      <td>166603.91</td>\n",
       "      <td>-1</td>\n",
       "      <td>0.999896</td>\n",
       "      <td>1642214.25</td>\n",
       "      <td>NaN</td>\n",
       "      <td>NaN</td>\n",
       "      <td>0.999896</td>\n",
       "      <td>3233.04</td>\n",
       "      <td>1.000660</td>\n",
       "      <td>20605.09</td>\n",
       "      <td>1.0</td>\n",
       "      <td>-5.519986</td>\n",
       "      <td>0</td>\n",
       "    </tr>\n",
       "    <tr>\n",
       "      <th>0_0_2</th>\n",
       "      <td>2</td>\n",
       "      <td>0</td>\n",
       "      <td>0</td>\n",
       "      <td>302879.87</td>\n",
       "      <td>-1</td>\n",
       "      <td>0.999561</td>\n",
       "      <td>1819368.03</td>\n",
       "      <td>NaN</td>\n",
       "      <td>NaN</td>\n",
       "      <td>0.999403</td>\n",
       "      <td>37956.00</td>\n",
       "      <td>1.000298</td>\n",
       "      <td>18995.00</td>\n",
       "      <td>1.0</td>\n",
       "      <td>-8.389950</td>\n",
       "      <td>0</td>\n",
       "    </tr>\n",
       "    <tr>\n",
       "      <th>0_0_3</th>\n",
       "      <td>3</td>\n",
       "      <td>0</td>\n",
       "      <td>0</td>\n",
       "      <td>11917682.27</td>\n",
       "      <td>-1</td>\n",
       "      <td>1.000171</td>\n",
       "      <td>18389745.62</td>\n",
       "      <td>NaN</td>\n",
       "      <td>NaN</td>\n",
       "      <td>0.999999</td>\n",
       "      <td>2324.90</td>\n",
       "      <td>1.000214</td>\n",
       "      <td>479032.40</td>\n",
       "      <td>1.0</td>\n",
       "      <td>-4.010200</td>\n",
       "      <td>0</td>\n",
       "    </tr>\n",
       "    <tr>\n",
       "      <th>0_0_4</th>\n",
       "      <td>4</td>\n",
       "      <td>0</td>\n",
       "      <td>0</td>\n",
       "      <td>447549.96</td>\n",
       "      <td>-1</td>\n",
       "      <td>0.999532</td>\n",
       "      <td>17860614.95</td>\n",
       "      <td>NaN</td>\n",
       "      <td>NaN</td>\n",
       "      <td>0.999394</td>\n",
       "      <td>16485.54</td>\n",
       "      <td>1.000016</td>\n",
       "      <td>434.10</td>\n",
       "      <td>1.0</td>\n",
       "      <td>-7.349849</td>\n",
       "      <td>0</td>\n",
       "    </tr>\n",
       "  </tbody>\n",
       "</table>\n",
       "</div>"
      ],
      "text/plain": [
       "        stock_id  date_id  seconds_in_bucket  imbalance_size  \\\n",
       "row_id                                                         \n",
       "0_0_0          0        0                  0      3180602.69   \n",
       "0_0_1          1        0                  0       166603.91   \n",
       "0_0_2          2        0                  0       302879.87   \n",
       "0_0_3          3        0                  0     11917682.27   \n",
       "0_0_4          4        0                  0       447549.96   \n",
       "\n",
       "        imbalance_buy_sell_flag  reference_price  matched_size  far_price  \\\n",
       "row_id                                                                      \n",
       "0_0_0                         1         0.999812   13380276.64        NaN   \n",
       "0_0_1                        -1         0.999896    1642214.25        NaN   \n",
       "0_0_2                        -1         0.999561    1819368.03        NaN   \n",
       "0_0_3                        -1         1.000171   18389745.62        NaN   \n",
       "0_0_4                        -1         0.999532   17860614.95        NaN   \n",
       "\n",
       "        near_price  bid_price  bid_size  ask_price   ask_size  wap    target  \\\n",
       "row_id                                                                         \n",
       "0_0_0          NaN   0.999812  60651.50   1.000026    8493.03  1.0 -3.029704   \n",
       "0_0_1          NaN   0.999896   3233.04   1.000660   20605.09  1.0 -5.519986   \n",
       "0_0_2          NaN   0.999403  37956.00   1.000298   18995.00  1.0 -8.389950   \n",
       "0_0_3          NaN   0.999999   2324.90   1.000214  479032.40  1.0 -4.010200   \n",
       "0_0_4          NaN   0.999394  16485.54   1.000016     434.10  1.0 -7.349849   \n",
       "\n",
       "        time_id  \n",
       "row_id           \n",
       "0_0_0         0  \n",
       "0_0_1         0  \n",
       "0_0_2         0  \n",
       "0_0_3         0  \n",
       "0_0_4         0  "
      ]
     },
     "execution_count": 5,
     "metadata": {},
     "output_type": "execute_result"
    }
   ],
   "source": [
    "df_raw = get_train(dropNull=True)\n",
    "df_train_raw, df_test_raw = split_by_date(df_raw, split_ratio=0.2)\n",
    "df_raw.head()"
   ]
  },
  {
   "cell_type": "code",
   "execution_count": 8,
   "metadata": {},
   "outputs": [],
   "source": [
    "from xgboost import XGBRegressor\n",
    "\n",
    "xgb = XGBRegressor(\n",
    "        objective='reg:squarederror',\n",
    "        max_depth=8,\n",
    "        subsample=0.6,\n",
    "        colsample_bytree=0.5,\n",
    "        learning_rate=0.01,\n",
    "        reg_lambda=1,\n",
    "        reg_alpha=0.5,\n",
    "        n_estimators=3500,\n",
    "        random_state=42,\n",
    "        verbosity=0\n",
    "    )"
   ]
  },
  {
   "cell_type": "code",
   "execution_count": 9,
   "metadata": {},
   "outputs": [
    {
     "name": "stderr",
     "output_type": "stream",
     "text": [
      "  0%|          | 0/31 [00:00<?, ?it/s]"
     ]
    },
    {
     "name": "stdout",
     "output_type": "stream",
     "text": [
      "model null\n"
     ]
    },
    {
     "name": "stderr",
     "output_type": "stream",
     "text": [
      "  6%|▋         | 2/31 [00:00<00:08,  3.60it/s]"
     ]
    },
    {
     "name": "stdout",
     "output_type": "stream",
     "text": [
      "model baseline\n"
     ]
    },
    {
     "name": "stderr",
     "output_type": "stream",
     "text": [
      " 10%|▉         | 3/31 [00:00<00:06,  4.30it/s]"
     ]
    },
    {
     "name": "stdout",
     "output_type": "stream",
     "text": [
      "model baseline linReg\n",
      "model linReg +\n"
     ]
    },
    {
     "name": "stderr",
     "output_type": "stream",
     "text": [
      " 13%|█▎        | 4/31 [00:04<00:46,  1.74s/it]"
     ]
    },
    {
     "name": "stdout",
     "output_type": "stream",
     "text": [
      "model xgb +\n"
     ]
    },
    {
     "name": "stderr",
     "output_type": "stream",
     "text": [
      " 16%|█▌        | 5/31 [06:24<59:53, 138.21s/it]"
     ]
    },
    {
     "name": "stdout",
     "output_type": "stream",
     "text": [
      "Lasso_0.001\n"
     ]
    },
    {
     "name": "stderr",
     "output_type": "stream",
     "text": [
      " 19%|█▉        | 6/31 [06:29<38:38, 92.76s/it] "
     ]
    },
    {
     "name": "stdout",
     "output_type": "stream",
     "text": [
      "Lasso_0.0022\n"
     ]
    },
    {
     "name": "stderr",
     "output_type": "stream",
     "text": [
      " 23%|██▎       | 7/31 [06:33<25:32, 63.87s/it]"
     ]
    },
    {
     "name": "stdout",
     "output_type": "stream",
     "text": [
      "Lasso_0.0046\n"
     ]
    },
    {
     "name": "stderr",
     "output_type": "stream",
     "text": [
      " 26%|██▌       | 8/31 [06:38<17:15, 45.01s/it]"
     ]
    },
    {
     "name": "stdout",
     "output_type": "stream",
     "text": [
      "Lasso_0.01\n"
     ]
    },
    {
     "name": "stderr",
     "output_type": "stream",
     "text": [
      " 29%|██▉       | 9/31 [06:43<11:51, 32.34s/it]"
     ]
    },
    {
     "name": "stdout",
     "output_type": "stream",
     "text": [
      "Lasso_0.0215\n"
     ]
    },
    {
     "name": "stderr",
     "output_type": "stream",
     "text": [
      " 32%|███▏      | 10/31 [06:47<08:18, 23.72s/it]"
     ]
    },
    {
     "name": "stdout",
     "output_type": "stream",
     "text": [
      "Lasso_0.0464\n"
     ]
    },
    {
     "name": "stderr",
     "output_type": "stream",
     "text": [
      " 35%|███▌      | 11/31 [06:51<05:55, 17.80s/it]"
     ]
    },
    {
     "name": "stdout",
     "output_type": "stream",
     "text": [
      "Lasso_0.1\n"
     ]
    },
    {
     "name": "stderr",
     "output_type": "stream",
     "text": [
      " 39%|███▊      | 12/31 [06:56<04:21, 13.74s/it]"
     ]
    },
    {
     "name": "stdout",
     "output_type": "stream",
     "text": [
      "Lasso_0.2154\n"
     ]
    },
    {
     "name": "stderr",
     "output_type": "stream",
     "text": [
      " 42%|████▏     | 13/31 [07:00<03:16, 10.91s/it]"
     ]
    },
    {
     "name": "stdout",
     "output_type": "stream",
     "text": [
      "Lasso_0.4642\n"
     ]
    },
    {
     "name": "stderr",
     "output_type": "stream",
     "text": [
      " 45%|████▌     | 14/31 [07:04<02:31,  8.89s/it]"
     ]
    },
    {
     "name": "stdout",
     "output_type": "stream",
     "text": [
      "Lasso_1.0\n"
     ]
    },
    {
     "name": "stderr",
     "output_type": "stream",
     "text": [
      " 48%|████▊     | 15/31 [07:09<01:59,  7.48s/it]"
     ]
    },
    {
     "name": "stdout",
     "output_type": "stream",
     "text": [
      "Lasso_2.1544\n"
     ]
    },
    {
     "name": "stderr",
     "output_type": "stream",
     "text": [
      " 52%|█████▏    | 16/31 [07:13<01:37,  6.48s/it]"
     ]
    },
    {
     "name": "stdout",
     "output_type": "stream",
     "text": [
      "Lasso_4.6416\n"
     ]
    },
    {
     "name": "stderr",
     "output_type": "stream",
     "text": [
      " 55%|█████▍    | 17/31 [07:17<01:21,  5.84s/it]"
     ]
    },
    {
     "name": "stdout",
     "output_type": "stream",
     "text": [
      "Lasso_10.0\n"
     ]
    },
    {
     "name": "stderr",
     "output_type": "stream",
     "text": [
      " 58%|█████▊    | 18/31 [07:22<01:10,  5.42s/it]"
     ]
    },
    {
     "name": "stdout",
     "output_type": "stream",
     "text": [
      "Ridge_0.001\n"
     ]
    },
    {
     "name": "stderr",
     "output_type": "stream",
     "text": [
      " 61%|██████▏   | 19/31 [07:26<01:03,  5.25s/it]"
     ]
    },
    {
     "name": "stdout",
     "output_type": "stream",
     "text": [
      "Ridge_0.0022\n"
     ]
    },
    {
     "name": "stderr",
     "output_type": "stream",
     "text": [
      " 65%|██████▍   | 20/31 [07:31<00:56,  5.15s/it]"
     ]
    },
    {
     "name": "stdout",
     "output_type": "stream",
     "text": [
      "Ridge_0.0046\n"
     ]
    },
    {
     "name": "stderr",
     "output_type": "stream",
     "text": [
      " 68%|██████▊   | 21/31 [07:36<00:50,  5.05s/it]"
     ]
    },
    {
     "name": "stdout",
     "output_type": "stream",
     "text": [
      "Ridge_0.01\n"
     ]
    },
    {
     "name": "stderr",
     "output_type": "stream",
     "text": [
      " 71%|███████   | 22/31 [07:41<00:45,  5.11s/it]"
     ]
    },
    {
     "name": "stdout",
     "output_type": "stream",
     "text": [
      "Ridge_0.0215\n"
     ]
    },
    {
     "name": "stderr",
     "output_type": "stream",
     "text": [
      " 74%|███████▍  | 23/31 [07:47<00:40,  5.12s/it]"
     ]
    },
    {
     "name": "stdout",
     "output_type": "stream",
     "text": [
      "Ridge_0.0464\n"
     ]
    },
    {
     "name": "stderr",
     "output_type": "stream",
     "text": [
      " 77%|███████▋  | 24/31 [07:51<00:35,  5.02s/it]"
     ]
    },
    {
     "name": "stdout",
     "output_type": "stream",
     "text": [
      "Ridge_0.1\n"
     ]
    },
    {
     "name": "stderr",
     "output_type": "stream",
     "text": [
      " 81%|████████  | 25/31 [07:56<00:29,  4.99s/it]"
     ]
    },
    {
     "name": "stdout",
     "output_type": "stream",
     "text": [
      "Ridge_0.2154\n"
     ]
    },
    {
     "name": "stderr",
     "output_type": "stream",
     "text": [
      " 84%|████████▍ | 26/31 [08:01<00:24,  4.92s/it]"
     ]
    },
    {
     "name": "stdout",
     "output_type": "stream",
     "text": [
      "Ridge_0.4642\n"
     ]
    },
    {
     "name": "stderr",
     "output_type": "stream",
     "text": [
      " 87%|████████▋ | 27/31 [08:06<00:19,  4.97s/it]"
     ]
    },
    {
     "name": "stdout",
     "output_type": "stream",
     "text": [
      "Ridge_1.0\n"
     ]
    },
    {
     "name": "stderr",
     "output_type": "stream",
     "text": [
      " 90%|█████████ | 28/31 [08:11<00:15,  5.01s/it]"
     ]
    },
    {
     "name": "stdout",
     "output_type": "stream",
     "text": [
      "Ridge_2.1544\n"
     ]
    },
    {
     "name": "stderr",
     "output_type": "stream",
     "text": [
      " 94%|█████████▎| 29/31 [08:16<00:09,  4.92s/it]"
     ]
    },
    {
     "name": "stdout",
     "output_type": "stream",
     "text": [
      "Ridge_4.6416\n"
     ]
    },
    {
     "name": "stderr",
     "output_type": "stream",
     "text": [
      " 97%|█████████▋| 30/31 [08:21<00:04,  4.85s/it]"
     ]
    },
    {
     "name": "stdout",
     "output_type": "stream",
     "text": [
      "Ridge_10.0\n"
     ]
    },
    {
     "name": "stderr",
     "output_type": "stream",
     "text": [
      "100%|██████████| 31/31 [08:26<00:00, 16.33s/it]\n"
     ]
    }
   ],
   "source": [
    "from sklearn.linear_model import LinearRegression, Lasso, Ridge\n",
    "from sklearn.preprocessing import PolynomialFeatures\n",
    "poly = PolynomialFeatures(2)\n",
    "\n",
    "cols = [\n",
    "    'stock_id',\n",
    "    'seconds_in_bucket',\n",
    "    'reference_price',\n",
    "    'matched_size',\n",
    "    'bid_price',\n",
    "    'bid_size',\n",
    "    'ask_price',\n",
    "    'ask_size',\n",
    "    'wap',\n",
    "    'imbalance_size_rel',\n",
    "]\n",
    "\n",
    "xgb = XGBRegressor(\n",
    "        objective='reg:squarederror',\n",
    "        max_depth=8,\n",
    "        subsample=0.6,\n",
    "        colsample_bytree=0.5,\n",
    "        learning_rate=0.01,\n",
    "        reg_lambda=1,\n",
    "        reg_alpha=0.5,\n",
    "        n_estimators=3500,\n",
    "        random_state=42,\n",
    "        verbosity=0\n",
    "    )\n",
    "\n",
    "models_dict = {\n",
    "    'model null' :(Model_base(), Preprocessing_null()),\n",
    "    'model baseline':(Imbalanced(), Preprocessing_null()),\n",
    "    'model baseline linReg':(Sklearn(LinearRegression()), RestrictCols(['imbalance_buy_sell_flag'])),\n",
    "    'model linReg +':(\n",
    "        Sklearn(LinearRegression()), \n",
    "        ChainPrepro((\n",
    "            Preprocessing_base(),\n",
    "            RestrictCols(cols)))),\n",
    "    'model xgb +':(\n",
    "        Sklearn(xgb), \n",
    "        ChainPrepro((\n",
    "            Preprocessing_base(),\n",
    "            RestrictCols(cols)))),\n",
    "    'model linReg + poly':(\n",
    "        Sklearn(LinearRegression()), \n",
    "        ChainPrepro((\n",
    "            Preprocessing_base(),\n",
    "            RestrictCols(cols),\n",
    "            PolynomialFeatures(2)\n",
    "            ))),\n",
    "    'model xgb + poly':(\n",
    "        Sklearn(xgb), \n",
    "        ChainPrepro((\n",
    "            Preprocessing_base(),\n",
    "            RestrictCols(cols),\n",
    "            PolynomialFeatures(2)\n",
    "            ))),\n",
    "\n",
    "}\n",
    "alphas = [round(10**(alpha/3)*0.001,4) for alpha in range(0,13)]\n",
    "lasso_dict = {f'Lasso_{a}': (\n",
    "    Sklearn(Lasso(a)),\n",
    "    ChainPrepro((\n",
    "        Preprocessing_base(),\n",
    "        RestrictCols(cols)))\n",
    "    ) for a in alphas}\n",
    "\n",
    "Ridge_dict = {f'Ridge_{a}': (\n",
    "    Sklearn(Lasso(a)),\n",
    "    ChainPrepro((\n",
    "        Preprocessing_base(),\n",
    "        RestrictCols(cols)))\n",
    "    ) for a in alphas}\n",
    "\n",
    "lasso_dict_poly = {f'Lasso_{a} poly': (\n",
    "    Sklearn(Lasso(a)),\n",
    "    ChainPrepro((\n",
    "        Preprocessing_base(),\n",
    "        RestrictCols(cols),\n",
    "        PolynomialFeatures(2)\n",
    "        ))\n",
    "    ) for a in alphas}\n",
    "\n",
    "Ridge_dict_poly = {f'Ridge_{a} poly': (\n",
    "    Sklearn(Lasso(a)),\n",
    "    ChainPrepro((\n",
    "        Preprocessing_base(),\n",
    "        RestrictCols(cols),\n",
    "        PolynomialFeatures(2)\n",
    "        ))\n",
    "    ) for a in alphas}\n",
    "\n",
    "models_dict = {**models_dict,**lasso_dict, **Ridge_dict}\n",
    "\n",
    "score=[]\n",
    "data_res=[]\n",
    "for name, pipe in tqdm(models_dict.items()):\n",
    "    print(name)\n",
    "    model, preprocess = pipe\n",
    "    df_res_train, df_res_test, mae_train, mae_test = train_test_score_fast(df_train_raw, df_test_raw, model=model, preprocess=preprocess)\n",
    "    score.append((name, mae_train, mae_test))\n",
    "    data_res.append((name, df_res_train, df_res_test))\n"
   ]
  },
  {
   "cell_type": "code",
   "execution_count": 10,
   "metadata": {},
   "outputs": [
    {
     "data": {
      "text/html": [
       "<div>\n",
       "<style scoped>\n",
       "    .dataframe tbody tr th:only-of-type {\n",
       "        vertical-align: middle;\n",
       "    }\n",
       "\n",
       "    .dataframe tbody tr th {\n",
       "        vertical-align: top;\n",
       "    }\n",
       "\n",
       "    .dataframe thead th {\n",
       "        text-align: right;\n",
       "    }\n",
       "</style>\n",
       "<table border=\"1\" class=\"dataframe\">\n",
       "  <thead>\n",
       "    <tr style=\"text-align: right;\">\n",
       "      <th></th>\n",
       "      <th>score_train</th>\n",
       "      <th>score_test</th>\n",
       "    </tr>\n",
       "  </thead>\n",
       "  <tbody>\n",
       "    <tr>\n",
       "      <th>model linReg +</th>\n",
       "      <td>6.495051</td>\n",
       "      <td>6.059715</td>\n",
       "    </tr>\n",
       "    <tr>\n",
       "      <th>Ridge_1.0</th>\n",
       "      <td>6.495212</td>\n",
       "      <td>6.059865</td>\n",
       "    </tr>\n",
       "    <tr>\n",
       "      <th>Lasso_1.0</th>\n",
       "      <td>6.495212</td>\n",
       "      <td>6.059865</td>\n",
       "    </tr>\n",
       "    <tr>\n",
       "      <th>Lasso_2.1544</th>\n",
       "      <td>6.495212</td>\n",
       "      <td>6.059865</td>\n",
       "    </tr>\n",
       "    <tr>\n",
       "      <th>Ridge_2.1544</th>\n",
       "      <td>6.495212</td>\n",
       "      <td>6.059865</td>\n",
       "    </tr>\n",
       "    <tr>\n",
       "      <th>Lasso_4.6416</th>\n",
       "      <td>6.495212</td>\n",
       "      <td>6.059865</td>\n",
       "    </tr>\n",
       "    <tr>\n",
       "      <th>Ridge_4.6416</th>\n",
       "      <td>6.495212</td>\n",
       "      <td>6.059865</td>\n",
       "    </tr>\n",
       "    <tr>\n",
       "      <th>Lasso_10.0</th>\n",
       "      <td>6.495212</td>\n",
       "      <td>6.059865</td>\n",
       "    </tr>\n",
       "    <tr>\n",
       "      <th>Ridge_10.0</th>\n",
       "      <td>6.495212</td>\n",
       "      <td>6.059865</td>\n",
       "    </tr>\n",
       "    <tr>\n",
       "      <th>Lasso_0.4642</th>\n",
       "      <td>6.495226</td>\n",
       "      <td>6.059879</td>\n",
       "    </tr>\n",
       "    <tr>\n",
       "      <th>Ridge_0.4642</th>\n",
       "      <td>6.495226</td>\n",
       "      <td>6.059879</td>\n",
       "    </tr>\n",
       "    <tr>\n",
       "      <th>Lasso_0.2154</th>\n",
       "      <td>6.495239</td>\n",
       "      <td>6.059889</td>\n",
       "    </tr>\n",
       "    <tr>\n",
       "      <th>Ridge_0.2154</th>\n",
       "      <td>6.495239</td>\n",
       "      <td>6.059889</td>\n",
       "    </tr>\n",
       "    <tr>\n",
       "      <th>Lasso_0.1</th>\n",
       "      <td>6.495247</td>\n",
       "      <td>6.059895</td>\n",
       "    </tr>\n",
       "    <tr>\n",
       "      <th>Ridge_0.1</th>\n",
       "      <td>6.495247</td>\n",
       "      <td>6.059895</td>\n",
       "    </tr>\n",
       "    <tr>\n",
       "      <th>Lasso_0.0464</th>\n",
       "      <td>6.495250</td>\n",
       "      <td>6.059898</td>\n",
       "    </tr>\n",
       "    <tr>\n",
       "      <th>Ridge_0.0464</th>\n",
       "      <td>6.495250</td>\n",
       "      <td>6.059898</td>\n",
       "    </tr>\n",
       "    <tr>\n",
       "      <th>Lasso_0.0215</th>\n",
       "      <td>6.495252</td>\n",
       "      <td>6.059900</td>\n",
       "    </tr>\n",
       "    <tr>\n",
       "      <th>Ridge_0.0215</th>\n",
       "      <td>6.495252</td>\n",
       "      <td>6.059900</td>\n",
       "    </tr>\n",
       "    <tr>\n",
       "      <th>Lasso_0.01</th>\n",
       "      <td>6.495252</td>\n",
       "      <td>6.059900</td>\n",
       "    </tr>\n",
       "    <tr>\n",
       "      <th>Ridge_0.01</th>\n",
       "      <td>6.495252</td>\n",
       "      <td>6.059900</td>\n",
       "    </tr>\n",
       "    <tr>\n",
       "      <th>Lasso_0.0046</th>\n",
       "      <td>6.495253</td>\n",
       "      <td>6.059900</td>\n",
       "    </tr>\n",
       "    <tr>\n",
       "      <th>Ridge_0.0046</th>\n",
       "      <td>6.495253</td>\n",
       "      <td>6.059900</td>\n",
       "    </tr>\n",
       "    <tr>\n",
       "      <th>Ridge_0.0022</th>\n",
       "      <td>6.495253</td>\n",
       "      <td>6.059901</td>\n",
       "    </tr>\n",
       "    <tr>\n",
       "      <th>Lasso_0.0022</th>\n",
       "      <td>6.495253</td>\n",
       "      <td>6.059901</td>\n",
       "    </tr>\n",
       "    <tr>\n",
       "      <th>Lasso_0.001</th>\n",
       "      <td>6.495253</td>\n",
       "      <td>6.059901</td>\n",
       "    </tr>\n",
       "    <tr>\n",
       "      <th>Ridge_0.001</th>\n",
       "      <td>6.495253</td>\n",
       "      <td>6.059901</td>\n",
       "    </tr>\n",
       "    <tr>\n",
       "      <th>model baseline</th>\n",
       "      <td>6.494700</td>\n",
       "      <td>6.059927</td>\n",
       "    </tr>\n",
       "    <tr>\n",
       "      <th>model null</th>\n",
       "      <td>6.495554</td>\n",
       "      <td>6.060085</td>\n",
       "    </tr>\n",
       "    <tr>\n",
       "      <th>model baseline linReg</th>\n",
       "      <td>6.494479</td>\n",
       "      <td>6.060640</td>\n",
       "    </tr>\n",
       "    <tr>\n",
       "      <th>model xgb +</th>\n",
       "      <td>6.503315</td>\n",
       "      <td>6.066053</td>\n",
       "    </tr>\n",
       "  </tbody>\n",
       "</table>\n",
       "</div>"
      ],
      "text/plain": [
       "                       score_train  score_test\n",
       "model linReg +            6.495051    6.059715\n",
       "Ridge_1.0                 6.495212    6.059865\n",
       "Lasso_1.0                 6.495212    6.059865\n",
       "Lasso_2.1544              6.495212    6.059865\n",
       "Ridge_2.1544              6.495212    6.059865\n",
       "Lasso_4.6416              6.495212    6.059865\n",
       "Ridge_4.6416              6.495212    6.059865\n",
       "Lasso_10.0                6.495212    6.059865\n",
       "Ridge_10.0                6.495212    6.059865\n",
       "Lasso_0.4642              6.495226    6.059879\n",
       "Ridge_0.4642              6.495226    6.059879\n",
       "Lasso_0.2154              6.495239    6.059889\n",
       "Ridge_0.2154              6.495239    6.059889\n",
       "Lasso_0.1                 6.495247    6.059895\n",
       "Ridge_0.1                 6.495247    6.059895\n",
       "Lasso_0.0464              6.495250    6.059898\n",
       "Ridge_0.0464              6.495250    6.059898\n",
       "Lasso_0.0215              6.495252    6.059900\n",
       "Ridge_0.0215              6.495252    6.059900\n",
       "Lasso_0.01                6.495252    6.059900\n",
       "Ridge_0.01                6.495252    6.059900\n",
       "Lasso_0.0046              6.495253    6.059900\n",
       "Ridge_0.0046              6.495253    6.059900\n",
       "Ridge_0.0022              6.495253    6.059901\n",
       "Lasso_0.0022              6.495253    6.059901\n",
       "Lasso_0.001               6.495253    6.059901\n",
       "Ridge_0.001               6.495253    6.059901\n",
       "model baseline            6.494700    6.059927\n",
       "model null                6.495554    6.060085\n",
       "model baseline linReg     6.494479    6.060640\n",
       "model xgb +               6.503315    6.066053"
      ]
     },
     "metadata": {},
     "output_type": "display_data"
    },
    {
     "data": {
      "image/png": "[encoded data removed]",
      "text/plain": [
       "<Figure size 640x480 with 1 Axes>"
      ]
     },
     "metadata": {},
     "output_type": "display_data"
    }
   ],
   "source": [
    "name, score_train, score_test = zip(*score)\n",
    "df_score = pd.DataFrame({\n",
    "    'score_train':score_train,\n",
    "    'score_test':score_test}, index = name\n",
    ")\n",
    "\n",
    "df_score.sort_values(by='score_test',inplace=True)\n",
    "df_score.plot.barh()\n",
    "display(df_score)"
   ]
  }
 ],
 "metadata": {
  "kernelspec": {
   "display_name": ".env",
   "language": "python",
   "name": "python3"
  },
  "language_info": {
   "codemirror_mode": {
    "name": "ipython",
    "version": 3
   },
   "file_extension": ".py",
   "mimetype": "text/x-python",
   "name": "python",
   "nbconvert_exporter": "python",
   "pygments_lexer": "ipython3",
   "version": "3.11.6"
  }
 },
 "nbformat": 4,
 "nbformat_minor": 2
}
