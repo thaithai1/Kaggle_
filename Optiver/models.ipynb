{
 "cells": [
  {
   "cell_type": "code",
   "execution_count": 1,
   "metadata": {},
   "outputs": [],
   "source": [
    "%load_ext autoreload\n",
    "%autoreload 2\n",
    "import math\n",
    "import pandas as pd\n",
    "import numpy as np\n",
    "import seaborn as sns\n",
    "import matplotlib.pyplot as plt\n",
    "from tqdm import tqdm\n",
    "from utils.data_manager import *\n",
    "from utils.metrics import *\n",
    "from utils.models import *\n",
    "from utils.preprocessing import *\n",
    "from sklearn.linear_model import LinearRegression, Lasso, Ridge\n",
    "from sklearn.preprocessing import PolynomialFeatures\n"
   ]
  },
  {
   "cell_type": "code",
   "execution_count": 2,
   "metadata": {},
   "outputs": [
    {
     "name": "stdout",
     "output_type": "stream",
     "text": [
      "data/optiver-trading-at-the-close/train.csv - loaded\n"
     ]
    },
    {
     "data": {
      "text/html": [
       "<div>\n",
       "<style scoped>\n",
       "    .dataframe tbody tr th:only-of-type {\n",
       "        vertical-align: middle;\n",
       "    }\n",
       "\n",
       "    .dataframe tbody tr th {\n",
       "        vertical-align: top;\n",
       "    }\n",
       "\n",
       "    .dataframe thead th {\n",
       "        text-align: right;\n",
       "    }\n",
       "</style>\n",
       "<table border=\"1\" class=\"dataframe\">\n",
       "  <thead>\n",
       "    <tr style=\"text-align: right;\">\n",
       "      <th></th>\n",
       "      <th>stock_id</th>\n",
       "      <th>date_id</th>\n",
       "      <th>seconds_in_bucket</th>\n",
       "      <th>imbalance_size</th>\n",
       "      <th>imbalance_buy_sell_flag</th>\n",
       "      <th>reference_price</th>\n",
       "      <th>matched_size</th>\n",
       "      <th>far_price</th>\n",
       "      <th>near_price</th>\n",
       "      <th>bid_price</th>\n",
       "      <th>bid_size</th>\n",
       "      <th>ask_price</th>\n",
       "      <th>ask_size</th>\n",
       "      <th>wap</th>\n",
       "      <th>target</th>\n",
       "      <th>time_id</th>\n",
       "    </tr>\n",
       "    <tr>\n",
       "      <th>row_id</th>\n",
       "      <th></th>\n",
       "      <th></th>\n",
       "      <th></th>\n",
       "      <th></th>\n",
       "      <th></th>\n",
       "      <th></th>\n",
       "      <th></th>\n",
       "      <th></th>\n",
       "      <th></th>\n",
       "      <th></th>\n",
       "      <th></th>\n",
       "      <th></th>\n",
       "      <th></th>\n",
       "      <th></th>\n",
       "      <th></th>\n",
       "      <th></th>\n",
       "    </tr>\n",
       "  </thead>\n",
       "  <tbody>\n",
       "    <tr>\n",
       "      <th>0_0_0</th>\n",
       "      <td>0</td>\n",
       "      <td>0</td>\n",
       "      <td>0</td>\n",
       "      <td>3180602.69</td>\n",
       "      <td>1</td>\n",
       "      <td>0.999812</td>\n",
       "      <td>13380276.64</td>\n",
       "      <td>NaN</td>\n",
       "      <td>NaN</td>\n",
       "      <td>0.999812</td>\n",
       "      <td>60651.50</td>\n",
       "      <td>1.000026</td>\n",
       "      <td>8493.03</td>\n",
       "      <td>1.0</td>\n",
       "      <td>-3.029704</td>\n",
       "      <td>0</td>\n",
       "    </tr>\n",
       "    <tr>\n",
       "      <th>0_0_1</th>\n",
       "      <td>1</td>\n",
       "      <td>0</td>\n",
       "      <td>0</td>\n",
       "      <td>166603.91</td>\n",
       "      <td>-1</td>\n",
       "      <td>0.999896</td>\n",
       "      <td>1642214.25</td>\n",
       "      <td>NaN</td>\n",
       "      <td>NaN</td>\n",
       "      <td>0.999896</td>\n",
       "      <td>3233.04</td>\n",
       "      <td>1.000660</td>\n",
       "      <td>20605.09</td>\n",
       "      <td>1.0</td>\n",
       "      <td>-5.519986</td>\n",
       "      <td>0</td>\n",
       "    </tr>\n",
       "    <tr>\n",
       "      <th>0_0_2</th>\n",
       "      <td>2</td>\n",
       "      <td>0</td>\n",
       "      <td>0</td>\n",
       "      <td>302879.87</td>\n",
       "      <td>-1</td>\n",
       "      <td>0.999561</td>\n",
       "      <td>1819368.03</td>\n",
       "      <td>NaN</td>\n",
       "      <td>NaN</td>\n",
       "      <td>0.999403</td>\n",
       "      <td>37956.00</td>\n",
       "      <td>1.000298</td>\n",
       "      <td>18995.00</td>\n",
       "      <td>1.0</td>\n",
       "      <td>-8.389950</td>\n",
       "      <td>0</td>\n",
       "    </tr>\n",
       "    <tr>\n",
       "      <th>0_0_3</th>\n",
       "      <td>3</td>\n",
       "      <td>0</td>\n",
       "      <td>0</td>\n",
       "      <td>11917682.27</td>\n",
       "      <td>-1</td>\n",
       "      <td>1.000171</td>\n",
       "      <td>18389745.62</td>\n",
       "      <td>NaN</td>\n",
       "      <td>NaN</td>\n",
       "      <td>0.999999</td>\n",
       "      <td>2324.90</td>\n",
       "      <td>1.000214</td>\n",
       "      <td>479032.40</td>\n",
       "      <td>1.0</td>\n",
       "      <td>-4.010200</td>\n",
       "      <td>0</td>\n",
       "    </tr>\n",
       "    <tr>\n",
       "      <th>0_0_4</th>\n",
       "      <td>4</td>\n",
       "      <td>0</td>\n",
       "      <td>0</td>\n",
       "      <td>447549.96</td>\n",
       "      <td>-1</td>\n",
       "      <td>0.999532</td>\n",
       "      <td>17860614.95</td>\n",
       "      <td>NaN</td>\n",
       "      <td>NaN</td>\n",
       "      <td>0.999394</td>\n",
       "      <td>16485.54</td>\n",
       "      <td>1.000016</td>\n",
       "      <td>434.10</td>\n",
       "      <td>1.0</td>\n",
       "      <td>-7.349849</td>\n",
       "      <td>0</td>\n",
       "    </tr>\n",
       "  </tbody>\n",
       "</table>\n",
       "</div>"
      ],
      "text/plain": [
       "        stock_id  date_id  seconds_in_bucket  imbalance_size  \\\n",
       "row_id                                                         \n",
       "0_0_0          0        0                  0      3180602.69   \n",
       "0_0_1          1        0                  0       166603.91   \n",
       "0_0_2          2        0                  0       302879.87   \n",
       "0_0_3          3        0                  0     11917682.27   \n",
       "0_0_4          4        0                  0       447549.96   \n",
       "\n",
       "        imbalance_buy_sell_flag  reference_price  matched_size  far_price  \\\n",
       "row_id                                                                      \n",
       "0_0_0                         1         0.999812   13380276.64        NaN   \n",
       "0_0_1                        -1         0.999896    1642214.25        NaN   \n",
       "0_0_2                        -1         0.999561    1819368.03        NaN   \n",
       "0_0_3                        -1         1.000171   18389745.62        NaN   \n",
       "0_0_4                        -1         0.999532   17860614.95        NaN   \n",
       "\n",
       "        near_price  bid_price  bid_size  ask_price   ask_size  wap    target  \\\n",
       "row_id                                                                         \n",
       "0_0_0          NaN   0.999812  60651.50   1.000026    8493.03  1.0 -3.029704   \n",
       "0_0_1          NaN   0.999896   3233.04   1.000660   20605.09  1.0 -5.519986   \n",
       "0_0_2          NaN   0.999403  37956.00   1.000298   18995.00  1.0 -8.389950   \n",
       "0_0_3          NaN   0.999999   2324.90   1.000214  479032.40  1.0 -4.010200   \n",
       "0_0_4          NaN   0.999394  16485.54   1.000016     434.10  1.0 -7.349849   \n",
       "\n",
       "        time_id  \n",
       "row_id           \n",
       "0_0_0         0  \n",
       "0_0_1         0  \n",
       "0_0_2         0  \n",
       "0_0_3         0  \n",
       "0_0_4         0  "
      ]
     },
     "execution_count": 2,
     "metadata": {},
     "output_type": "execute_result"
    }
   ],
   "source": [
    "df_raw = get_train(dropNull=True)\n",
    "df_train_raw, df_test_raw = split_by_date(df_raw, split_ratio=0.2)\n",
    "df_raw.head()"
   ]
  },
  {
   "cell_type": "code",
   "execution_count": 3,
   "metadata": {},
   "outputs": [
    {
     "name": "stdout",
     "output_type": "stream",
     "text": [
      "all\n",
      "-0.0475888608336268\n",
      "-0.20227519213446324\n",
      "-0.0628055349951964\n",
      "0.12037589113790591\n",
      "train\n",
      "-0.04728118963733477\n",
      "-0.22745859858456322\n",
      "-0.06500647314559627\n",
      "0.142972352764706\n"
     ]
    }
   ],
   "source": [
    "print('all')\n",
    "print(df_raw.target.mean())\n",
    "print(df_raw[df_raw['imbalance_buy_sell_flag']==-1].target.mean())\n",
    "print(df_raw[df_raw['imbalance_buy_sell_flag']==0].target.mean())\n",
    "print(df_raw[df_raw['imbalance_buy_sell_flag']==1].target.mean())\n",
    "\n",
    "print('train')\n",
    "print(df_train_raw.target.mean())\n",
    "print(df_train_raw[df_train_raw['imbalance_buy_sell_flag']==-1].target.mean())\n",
    "print(df_train_raw[df_train_raw['imbalance_buy_sell_flag']==0].target.mean())\n",
    "print(df_train_raw[df_train_raw['imbalance_buy_sell_flag']==1].target.mean())\n",
    "\n",
    "models_base = {\n",
    "    'model null' :(Model_base(), Preprocessing_null()),\n",
    "    'model baseline':(Imbalanced(), Preprocessing_null()),\n",
    "    'model cst all.mean':(BaseImbalanced(-0.0475888608336268, 0), Preprocessing_null()),\n",
    "    'model cst train.mean':(BaseImbalanced(-0.04728118963733477, 0), Preprocessing_null()),\n",
    "    'model base all.mean':(BaseImbalanced(-0.0475888608336268, 0.1), Preprocessing_null()),\n",
    "    'model base train.mean':(BaseImbalanced(-0.04728118963733477, 0.1), Preprocessing_null()),\n",
    "    'model imbalance adj all':(BaseImbalanced_values(-0.20227519213446324, -0.0628055349951964, 0.12037589113790591), Preprocessing_null()),\n",
    "    'model imbalance adj train':(BaseImbalanced_values(-0.22745859858456322, -0.06500647314559627, 0.142972352764706), Preprocessing_null()),\n",
    "}\n",
    "\n",
    "imbal = [x *0.01 for x in range(1,101)]\n",
    "\n",
    "model_imbal_all = {\n",
    "    f'model base all_{x}':(BaseImbalanced(-0.0475888608336268, x), Preprocessing_null())\n",
    "    for x in imbal\n",
    "}\n",
    "\n",
    "model_imbal_train= {\n",
    "    f'model base train_{x}':(BaseImbalanced(-0.04728118963733477, x), Preprocessing_null())\n",
    "    for x in imbal\n",
    "}\n",
    "\n",
    "models_base= {**models_base, **model_imbal_all, **model_imbal_train}"
   ]
  },
  {
   "cell_type": "code",
   "execution_count": 4,
   "metadata": {},
   "outputs": [],
   "source": [
    "cols = [\n",
    "    'stock_id',\n",
    "    'seconds_in_bucket',\n",
    "    'reference_price',\n",
    "    'matched_size',\n",
    "    'bid_price',\n",
    "    'bid_size',\n",
    "    'ask_price',\n",
    "    'ask_size',\n",
    "    'wap',\n",
    "    'imbalance_size_rel',\n",
    "]\n",
    "\n",
    "cols = [\n",
    "    # 'stock_id',\n",
    "    # 'seconds_in_bucket',\n",
    "    # 'reference_price',\n",
    "    # 'matched_size',\n",
    "    # 'bid_price',\n",
    "    # 'bid_size',\n",
    "    # 'ask_price',\n",
    "    # 'ask_size',\n",
    "    # 'wap',\n",
    "    'imb/volume',\n",
    "]\n",
    "models_Lin = {\n",
    "    'model linReg +':(\n",
    "        Sklearn(LinearRegression()), \n",
    "        ChainPrepro((Preprocessing_base(),RestrictCols(cols)))\n",
    "        ),\n",
    "    'model linReg + poly':(\n",
    "        Sklearn(LinearRegression()), \n",
    "        ChainPrepro((Preprocessing_base(),RestrictCols(cols),PolynomialFeatures(2)))\n",
    "        ),\n",
    "}"
   ]
  },
  {
   "cell_type": "code",
   "execution_count": 5,
   "metadata": {},
   "outputs": [],
   "source": [
    "alphas = [round(10**(alpha/3)*0.001,4) for alpha in range(0,8)]\n",
    "\n",
    "model_lasso = {f'Lasso_{a}': (\n",
    "    Sklearn(Lasso(a)),\n",
    "    ChainPrepro((Preprocessing_base(),RestrictCols(cols)))\n",
    "    ) for a in alphas}\n",
    "\n",
    "model_lasso_poly = {f'Lasso_{a} poly': (\n",
    "    Sklearn(Lasso(a)),\n",
    "    ChainPrepro((Preprocessing_base(),RestrictCols(cols),PolynomialFeatures(2)))\n",
    "    ) for a in alphas}\n",
    "\n",
    "model_ridge = {f'Ridge_{a}': (\n",
    "    Sklearn(Ridge(a)),\n",
    "    ChainPrepro((Preprocessing_base(),RestrictCols(cols)))\n",
    "    ) for a in alphas\n",
    "    }\n",
    "\n",
    "model_ridge_poly = {\n",
    "    f'Ridge_{a} poly': (\n",
    "        Sklearn(Ridge(a)),\n",
    "        ChainPrepro((Preprocessing_base(),RestrictCols(cols),PolynomialFeatures(2)))\n",
    "    ) for a in alphas\n",
    "        }"
   ]
  },
  {
   "cell_type": "code",
   "execution_count": 6,
   "metadata": {},
   "outputs": [],
   "source": [
    "from xgboost import XGBRegressor\n",
    "\n",
    "xgb = XGBRegressor(\n",
    "        objective='reg:squarederror',\n",
    "        max_depth=8,\n",
    "        subsample=0.6,\n",
    "        colsample_bytree=0.5,\n",
    "        learning_rate=0.01,\n",
    "        reg_lambda=1,\n",
    "        reg_alpha=0.5,\n",
    "        n_estimators=3500,\n",
    "        random_state=42,\n",
    "        verbosity=0\n",
    "    )\n",
    "\n",
    "models_xgb = {\n",
    "    'model xgb +':(\n",
    "        Sklearn(xgb), \n",
    "        ChainPrepro((Preprocessing_base(),RestrictCols(cols)))),\n",
    "    'model xgb + poly':(\n",
    "        Sklearn(xgb), \n",
    "        ChainPrepro((Preprocessing_base(),RestrictCols(cols),PolynomialFeatures(2)))),\n",
    "}"
   ]
  },
  {
   "cell_type": "code",
   "execution_count": 7,
   "metadata": {},
   "outputs": [
    {
     "name": "stderr",
     "output_type": "stream",
     "text": [
      "  1%|          | 2/210 [00:01<02:05,  1.65it/s]"
     ]
    },
    {
     "name": "stdout",
     "output_type": "stream",
     "text": [
      "model null 6.495554404736472 6.060085367628662\n",
      "model baseline 6.494699965252276 6.059927118550247\n"
     ]
    },
    {
     "name": "stderr",
     "output_type": "stream",
     "text": [
      "  2%|▏         | 4/210 [00:01<01:08,  3.02it/s]"
     ]
    },
    {
     "name": "stdout",
     "output_type": "stream",
     "text": [
      "model cst all.mean 6.49529600604432 6.059967248807287\n",
      "model cst train.mean 6.4952968702284934 6.0599671421601355\n"
     ]
    },
    {
     "name": "stderr",
     "output_type": "stream",
     "text": [
      "  3%|▎         | 6/210 [00:02<00:50,  4.04it/s]"
     ]
    },
    {
     "name": "stdout",
     "output_type": "stream",
     "text": [
      "model base all.mean 6.494443674883186 6.059855531178103\n",
      "model base train.mean 6.49444453038579 6.059855129648676\n"
     ]
    },
    {
     "name": "stderr",
     "output_type": "stream",
     "text": [
      "  4%|▍         | 8/210 [00:02<00:44,  4.58it/s]"
     ]
    },
    {
     "name": "stdout",
     "output_type": "stream",
     "text": [
      "model imbalance adj all 6.494409889910547 6.0603489802826696\n",
      "model imbalance adj train 6.494487198852728 6.060654093318228\n"
     ]
    },
    {
     "name": "stderr",
     "output_type": "stream",
     "text": [
      "  5%|▍         | 10/210 [00:02<00:41,  4.79it/s]"
     ]
    },
    {
     "name": "stdout",
     "output_type": "stream",
     "text": [
      "model base all_0.01 6.495167486454798 6.059905446878092\n",
      "model base all_0.02 6.495048474128255 6.05985516545771\n"
     ]
    },
    {
     "name": "stderr",
     "output_type": "stream",
     "text": [
      "  5%|▌         | 11/210 [00:03<00:41,  4.79it/s]"
     ]
    },
    {
     "name": "stdout",
     "output_type": "stream",
     "text": [
      "model base all_0.03 6.494939457750115 6.05981703844875\n"
     ]
    },
    {
     "name": "stderr",
     "output_type": "stream",
     "text": [
      "  6%|▌         | 12/210 [00:03<00:41,  4.77it/s]"
     ]
    },
    {
     "name": "stdout",
     "output_type": "stream",
     "text": [
      "model base all_0.04 6.494840121333989 6.059789312776935\n"
     ]
    },
    {
     "name": "stderr",
     "output_type": "stream",
     "text": [
      "  6%|▌         | 13/210 [00:03<00:43,  4.49it/s]"
     ]
    },
    {
     "name": "stdout",
     "output_type": "stream",
     "text": [
      "model base all_0.05 6.4947503700316895 6.0597722534558285\n"
     ]
    },
    {
     "name": "stderr",
     "output_type": "stream",
     "text": [
      "  7%|▋         | 14/210 [00:03<00:49,  3.96it/s]"
     ]
    },
    {
     "name": "stdout",
     "output_type": "stream",
     "text": [
      "model base all_0.06 6.494670304872012 6.0597671164907085\n"
     ]
    },
    {
     "name": "stderr",
     "output_type": "stream",
     "text": [
      "  7%|▋         | 15/210 [00:04<00:47,  4.13it/s]"
     ]
    },
    {
     "name": "stdout",
     "output_type": "stream",
     "text": [
      "model base all_0.07 6.4945991128960925 6.059772410260141\n"
     ]
    },
    {
     "name": "stderr",
     "output_type": "stream",
     "text": [
      "  8%|▊         | 16/210 [00:04<00:45,  4.30it/s]"
     ]
    },
    {
     "name": "stdout",
     "output_type": "stream",
     "text": [
      "model base all_0.08 6.494537952092241 6.059789132969886\n"
     ]
    },
    {
     "name": "stderr",
     "output_type": "stream",
     "text": [
      "  8%|▊         | 17/210 [00:04<00:43,  4.42it/s]"
     ]
    },
    {
     "name": "stdout",
     "output_type": "stream",
     "text": [
      "model base all_0.09 6.494485969571879 6.059816660342005\n"
     ]
    },
    {
     "name": "stderr",
     "output_type": "stream",
     "text": [
      "  9%|▊         | 18/210 [00:04<00:42,  4.49it/s]"
     ]
    },
    {
     "name": "stdout",
     "output_type": "stream",
     "text": [
      "model base all_0.1 6.494443674883186 6.059855531178103\n"
     ]
    },
    {
     "name": "stderr",
     "output_type": "stream",
     "text": [
      "  9%|▉         | 19/210 [00:04<00:41,  4.57it/s]"
     ]
    },
    {
     "name": "stdout",
     "output_type": "stream",
     "text": [
      "model base all_0.11 6.4944115263693964 6.059905155901942\n",
      "model base all_0.12 6.494389127423847 6.059966272775018\n"
     ]
    },
    {
     "name": "stderr",
     "output_type": "stream",
     "text": [
      " 10%|█         | 21/210 [00:05<00:40,  4.70it/s]"
     ]
    },
    {
     "name": "stdout",
     "output_type": "stream",
     "text": [
      "model base all_0.13 6.4943764908818915 6.060038629482336\n"
     ]
    },
    {
     "name": "stderr",
     "output_type": "stream",
     "text": [
      " 10%|█         | 22/210 [00:05<00:40,  4.69it/s]"
     ]
    },
    {
     "name": "stdout",
     "output_type": "stream",
     "text": [
      "model base all_0.14 6.494373622404889 6.060122805113049\n"
     ]
    },
    {
     "name": "stderr",
     "output_type": "stream",
     "text": [
      " 11%|█         | 23/210 [00:05<00:40,  4.62it/s]"
     ]
    },
    {
     "name": "stdout",
     "output_type": "stream",
     "text": [
      "model base all_0.15 6.49437992787989 6.060217870932993\n"
     ]
    },
    {
     "name": "stderr",
     "output_type": "stream",
     "text": [
      " 11%|█▏        | 24/210 [00:06<00:39,  4.67it/s]"
     ]
    },
    {
     "name": "stdout",
     "output_type": "stream",
     "text": [
      "model base all_0.16 6.494396084274947 6.060323957891806\n"
     ]
    },
    {
     "name": "stderr",
     "output_type": "stream",
     "text": [
      " 12%|█▏        | 25/210 [00:06<00:39,  4.63it/s]"
     ]
    },
    {
     "name": "stdout",
     "output_type": "stream",
     "text": [
      "model base all_0.17 6.494421713680682 6.060441011767221\n"
     ]
    },
    {
     "name": "stderr",
     "output_type": "stream",
     "text": [
      " 12%|█▏        | 26/210 [00:06<00:39,  4.64it/s]"
     ]
    },
    {
     "name": "stdout",
     "output_type": "stream",
     "text": [
      "model base all_0.18 6.4944566824131655 6.060569237030579\n"
     ]
    },
    {
     "name": "stderr",
     "output_type": "stream",
     "text": [
      " 13%|█▎        | 27/210 [00:06<00:39,  4.65it/s]"
     ]
    },
    {
     "name": "stdout",
     "output_type": "stream",
     "text": [
      "model base all_0.19 6.494501441775369 6.06070851884029\n"
     ]
    },
    {
     "name": "stderr",
     "output_type": "stream",
     "text": [
      " 13%|█▎        | 28/210 [00:06<00:40,  4.52it/s]"
     ]
    },
    {
     "name": "stdout",
     "output_type": "stream",
     "text": [
      "model base all_0.2 6.494555463697275 6.060858412533343\n"
     ]
    },
    {
     "name": "stderr",
     "output_type": "stream",
     "text": [
      " 14%|█▍        | 29/210 [00:07<00:40,  4.49it/s]"
     ]
    },
    {
     "name": "stdout",
     "output_type": "stream",
     "text": [
      "model base all_0.21 6.494619723781366 6.061019895202537\n"
     ]
    },
    {
     "name": "stderr",
     "output_type": "stream",
     "text": [
      " 14%|█▍        | 30/210 [00:07<00:40,  4.44it/s]"
     ]
    },
    {
     "name": "stdout",
     "output_type": "stream",
     "text": [
      "model base all_0.22 6.494693149025139 6.061192024362559\n"
     ]
    },
    {
     "name": "stderr",
     "output_type": "stream",
     "text": [
      " 15%|█▍        | 31/210 [00:07<00:39,  4.49it/s]"
     ]
    },
    {
     "name": "stdout",
     "output_type": "stream",
     "text": [
      "model base all_0.23 6.494776284795459 6.061375510229987\n"
     ]
    },
    {
     "name": "stderr",
     "output_type": "stream",
     "text": [
      " 15%|█▌        | 32/210 [00:07<00:40,  4.43it/s]"
     ]
    },
    {
     "name": "stdout",
     "output_type": "stream",
     "text": [
      "model base all_0.24 6.494869087605281 6.061570136686012\n"
     ]
    },
    {
     "name": "stderr",
     "output_type": "stream",
     "text": [
      " 16%|█▌        | 33/210 [00:08<00:39,  4.45it/s]"
     ]
    },
    {
     "name": "stdout",
     "output_type": "stream",
     "text": [
      "model base all_0.25 6.494971180311863 6.061775085139113\n"
     ]
    },
    {
     "name": "stderr",
     "output_type": "stream",
     "text": [
      " 16%|█▌        | 34/210 [00:08<00:39,  4.47it/s]"
     ]
    },
    {
     "name": "stdout",
     "output_type": "stream",
     "text": [
      "model base all_0.26 6.495083340875132 6.061991586577716\n"
     ]
    },
    {
     "name": "stderr",
     "output_type": "stream",
     "text": [
      " 17%|█▋        | 35/210 [00:08<00:39,  4.44it/s]"
     ]
    },
    {
     "name": "stdout",
     "output_type": "stream",
     "text": [
      "model base all_0.27 6.4952047297129045 6.062218845423162\n"
     ]
    },
    {
     "name": "stderr",
     "output_type": "stream",
     "text": [
      " 17%|█▋        | 36/210 [00:08<00:38,  4.52it/s]"
     ]
    },
    {
     "name": "stdout",
     "output_type": "stream",
     "text": [
      "model base all_0.28 6.4953356706416905 6.062458112642979\n"
     ]
    },
    {
     "name": "stderr",
     "output_type": "stream",
     "text": [
      " 18%|█▊        | 37/210 [00:08<00:38,  4.50it/s]"
     ]
    },
    {
     "name": "stdout",
     "output_type": "stream",
     "text": [
      "model base all_0.29 6.495476329602606 6.062709646850063\n"
     ]
    },
    {
     "name": "stderr",
     "output_type": "stream",
     "text": [
      " 19%|█▊        | 39/210 [00:09<00:36,  4.70it/s]"
     ]
    },
    {
     "name": "stdout",
     "output_type": "stream",
     "text": [
      "model base all_0.3 6.4956265505585336 6.062972439401818\n",
      "model base all_0.31 6.495786652290662 6.063246706634419\n"
     ]
    },
    {
     "name": "stderr",
     "output_type": "stream",
     "text": [
      " 19%|█▉        | 40/210 [00:09<00:36,  4.63it/s]"
     ]
    },
    {
     "name": "stdout",
     "output_type": "stream",
     "text": [
      "model base all_0.32 6.495956612697166 6.063532563486162\n"
     ]
    },
    {
     "name": "stderr",
     "output_type": "stream",
     "text": [
      " 20%|█▉        | 41/210 [00:09<00:39,  4.33it/s]"
     ]
    },
    {
     "name": "stdout",
     "output_type": "stream",
     "text": [
      "model base all_0.33 6.496135705965053 6.063829034636358\n"
     ]
    },
    {
     "name": "stderr",
     "output_type": "stream",
     "text": [
      " 20%|██        | 42/210 [00:10<00:37,  4.46it/s]"
     ]
    },
    {
     "name": "stdout",
     "output_type": "stream",
     "text": [
      "model base all_0.34 6.496324729886516 6.064137113503585\n"
     ]
    },
    {
     "name": "stderr",
     "output_type": "stream",
     "text": [
      " 20%|██        | 43/210 [00:10<00:37,  4.46it/s]"
     ]
    },
    {
     "name": "stdout",
     "output_type": "stream",
     "text": [
      "model base all_0.35000000000000003 6.496523182239805 6.064456738934865\n"
     ]
    },
    {
     "name": "stderr",
     "output_type": "stream",
     "text": [
      " 21%|██        | 44/210 [00:10<00:37,  4.44it/s]"
     ]
    },
    {
     "name": "stdout",
     "output_type": "stream",
     "text": [
      "model base all_0.36 6.496731160745148 6.064788549297212\n"
     ]
    },
    {
     "name": "stderr",
     "output_type": "stream",
     "text": [
      " 21%|██▏       | 45/210 [00:10<00:39,  4.14it/s]"
     ]
    },
    {
     "name": "stdout",
     "output_type": "stream",
     "text": [
      "model base all_0.37 6.496948714263977 6.065131602761801\n"
     ]
    },
    {
     "name": "stderr",
     "output_type": "stream",
     "text": [
      " 22%|██▏       | 46/210 [00:11<00:38,  4.23it/s]"
     ]
    },
    {
     "name": "stdout",
     "output_type": "stream",
     "text": [
      "model base all_0.38 6.497175262976056 6.065484766504106\n"
     ]
    },
    {
     "name": "stderr",
     "output_type": "stream",
     "text": [
      " 22%|██▏       | 47/210 [00:11<00:38,  4.23it/s]"
     ]
    },
    {
     "name": "stdout",
     "output_type": "stream",
     "text": [
      "model base all_0.39 6.497411936475619 6.065849868186511\n"
     ]
    },
    {
     "name": "stderr",
     "output_type": "stream",
     "text": [
      " 23%|██▎       | 48/210 [00:11<00:37,  4.29it/s]"
     ]
    },
    {
     "name": "stdout",
     "output_type": "stream",
     "text": [
      "model base all_0.4 6.49765775690882 6.066225974421171\n"
     ]
    },
    {
     "name": "stderr",
     "output_type": "stream",
     "text": [
      " 23%|██▎       | 49/210 [00:11<00:37,  4.33it/s]"
     ]
    },
    {
     "name": "stdout",
     "output_type": "stream",
     "text": [
      "model base all_0.41000000000000003 6.497913201668118 6.0666131834411\n"
     ]
    },
    {
     "name": "stderr",
     "output_type": "stream",
     "text": [
      " 24%|██▍       | 50/210 [00:11<00:37,  4.30it/s]"
     ]
    },
    {
     "name": "stdout",
     "output_type": "stream",
     "text": [
      "model base all_0.42 6.498178321758571 6.067011599814356\n"
     ]
    },
    {
     "name": "stderr",
     "output_type": "stream",
     "text": [
      " 24%|██▍       | 51/210 [00:12<00:37,  4.28it/s]"
     ]
    },
    {
     "name": "stdout",
     "output_type": "stream",
     "text": [
      "model base all_0.43 6.498452835680822 6.067421182417102\n"
     ]
    },
    {
     "name": "stderr",
     "output_type": "stream",
     "text": [
      " 25%|██▍       | 52/210 [00:12<00:36,  4.28it/s]"
     ]
    },
    {
     "name": "stdout",
     "output_type": "stream",
     "text": [
      "model base all_0.44 6.4987375550691615 6.067843180554719\n"
     ]
    },
    {
     "name": "stderr",
     "output_type": "stream",
     "text": [
      " 25%|██▌       | 53/210 [00:12<00:37,  4.23it/s]"
     ]
    },
    {
     "name": "stdout",
     "output_type": "stream",
     "text": [
      "model base all_0.45 6.499031407074138 6.068275997700153\n"
     ]
    },
    {
     "name": "stderr",
     "output_type": "stream",
     "text": [
      " 26%|██▌       | 54/210 [00:12<00:37,  4.19it/s]"
     ]
    },
    {
     "name": "stdout",
     "output_type": "stream",
     "text": [
      "model base all_0.46 6.4993349407391525 6.068719799831445\n"
     ]
    },
    {
     "name": "stderr",
     "output_type": "stream",
     "text": [
      " 26%|██▌       | 55/210 [00:13<00:36,  4.21it/s]"
     ]
    },
    {
     "name": "stdout",
     "output_type": "stream",
     "text": [
      "model base all_0.47000000000000003 6.49964821909749 6.0691747277340395\n"
     ]
    },
    {
     "name": "stderr",
     "output_type": "stream",
     "text": [
      " 27%|██▋       | 56/210 [00:13<00:37,  4.05it/s]"
     ]
    },
    {
     "name": "stdout",
     "output_type": "stream",
     "text": [
      "model base all_0.48 6.4999710224895395 6.069640882228283\n"
     ]
    },
    {
     "name": "stderr",
     "output_type": "stream",
     "text": [
      " 27%|██▋       | 57/210 [00:13<00:36,  4.16it/s]"
     ]
    },
    {
     "name": "stdout",
     "output_type": "stream",
     "text": [
      "model base all_0.49 6.500303594354277 6.070118756002797\n"
     ]
    },
    {
     "name": "stderr",
     "output_type": "stream",
     "text": [
      " 28%|██▊       | 58/210 [00:13<00:38,  4.00it/s]"
     ]
    },
    {
     "name": "stdout",
     "output_type": "stream",
     "text": [
      "model base all_0.5 6.500645805793498 6.070608424539894\n"
     ]
    },
    {
     "name": "stderr",
     "output_type": "stream",
     "text": [
      " 28%|██▊       | 59/210 [00:14<00:38,  3.88it/s]"
     ]
    },
    {
     "name": "stdout",
     "output_type": "stream",
     "text": [
      "model base all_0.51 6.500997104904757 6.071108126089221\n"
     ]
    },
    {
     "name": "stderr",
     "output_type": "stream",
     "text": [
      " 29%|██▊       | 60/210 [00:14<00:37,  4.01it/s]"
     ]
    },
    {
     "name": "stdout",
     "output_type": "stream",
     "text": [
      "model base all_0.52 6.501358136481407 6.071618979527736\n"
     ]
    },
    {
     "name": "stderr",
     "output_type": "stream",
     "text": [
      " 29%|██▉       | 61/210 [00:14<00:36,  4.07it/s]"
     ]
    },
    {
     "name": "stdout",
     "output_type": "stream",
     "text": [
      "model base all_0.53 6.501728483370757 6.07214092920529\n"
     ]
    },
    {
     "name": "stderr",
     "output_type": "stream",
     "text": [
      " 30%|██▉       | 62/210 [00:14<00:35,  4.17it/s]"
     ]
    },
    {
     "name": "stdout",
     "output_type": "stream",
     "text": [
      "model base all_0.54 6.502108459241413 6.072674175759811\n"
     ]
    },
    {
     "name": "stderr",
     "output_type": "stream",
     "text": [
      " 30%|███       | 63/210 [00:15<00:34,  4.30it/s]"
     ]
    },
    {
     "name": "stdout",
     "output_type": "stream",
     "text": [
      "model base all_0.55 6.502498298770931 6.073218495354197\n"
     ]
    },
    {
     "name": "stderr",
     "output_type": "stream",
     "text": [
      " 30%|███       | 64/210 [00:15<00:34,  4.27it/s]"
     ]
    },
    {
     "name": "stdout",
     "output_type": "stream",
     "text": [
      "model base all_0.56 6.502897324466663 6.073773306072803\n"
     ]
    },
    {
     "name": "stderr",
     "output_type": "stream",
     "text": [
      " 31%|███       | 65/210 [00:15<00:33,  4.38it/s]"
     ]
    },
    {
     "name": "stdout",
     "output_type": "stream",
     "text": [
      "model base all_0.5700000000000001 6.503306270929972 6.074339151843012\n"
     ]
    },
    {
     "name": "stderr",
     "output_type": "stream",
     "text": [
      " 31%|███▏      | 66/210 [00:15<00:32,  4.39it/s]"
     ]
    },
    {
     "name": "stdout",
     "output_type": "stream",
     "text": [
      "model base all_0.58 6.503724027136533 6.074915737556642\n"
     ]
    },
    {
     "name": "stderr",
     "output_type": "stream",
     "text": [
      " 32%|███▏      | 67/210 [00:16<00:35,  4.02it/s]"
     ]
    },
    {
     "name": "stdout",
     "output_type": "stream",
     "text": [
      "model base all_0.59 6.504151450518786 6.075504301141516\n"
     ]
    },
    {
     "name": "stderr",
     "output_type": "stream",
     "text": [
      " 32%|███▏      | 68/210 [00:16<00:34,  4.07it/s]"
     ]
    },
    {
     "name": "stdout",
     "output_type": "stream",
     "text": [
      "model base all_0.6 6.504588775784245 6.076104289227831\n"
     ]
    },
    {
     "name": "stderr",
     "output_type": "stream",
     "text": [
      " 33%|███▎      | 69/210 [00:16<00:33,  4.24it/s]"
     ]
    },
    {
     "name": "stdout",
     "output_type": "stream",
     "text": [
      "model base all_0.61 6.505035249052654 6.076715440504615\n"
     ]
    },
    {
     "name": "stderr",
     "output_type": "stream",
     "text": [
      " 33%|███▎      | 70/210 [00:16<00:32,  4.28it/s]"
     ]
    },
    {
     "name": "stdout",
     "output_type": "stream",
     "text": [
      "model base all_0.62 6.505491471348228 6.077338488439212\n"
     ]
    },
    {
     "name": "stderr",
     "output_type": "stream",
     "text": [
      " 34%|███▍      | 71/210 [00:16<00:33,  4.18it/s]"
     ]
    },
    {
     "name": "stdout",
     "output_type": "stream",
     "text": [
      "model base all_0.63 6.505956651675925 6.077972496652758\n"
     ]
    },
    {
     "name": "stderr",
     "output_type": "stream",
     "text": [
      " 34%|███▍      | 72/210 [00:17<00:31,  4.34it/s]"
     ]
    },
    {
     "name": "stdout",
     "output_type": "stream",
     "text": [
      "model base all_0.64 6.506431700588519 6.078618374144967\n"
     ]
    },
    {
     "name": "stderr",
     "output_type": "stream",
     "text": [
      " 35%|███▍      | 73/210 [00:17<00:30,  4.43it/s]"
     ]
    },
    {
     "name": "stdout",
     "output_type": "stream",
     "text": [
      "model base all_0.65 6.506916332194778 6.079275850499004\n"
     ]
    },
    {
     "name": "stderr",
     "output_type": "stream",
     "text": [
      " 35%|███▌      | 74/210 [00:17<00:30,  4.45it/s]"
     ]
    },
    {
     "name": "stdout",
     "output_type": "stream",
     "text": [
      "model base all_0.66 6.507410396948442 6.079944115289101\n"
     ]
    },
    {
     "name": "stderr",
     "output_type": "stream",
     "text": [
      " 36%|███▌      | 75/210 [00:17<00:30,  4.37it/s]"
     ]
    },
    {
     "name": "stdout",
     "output_type": "stream",
     "text": [
      "model base all_0.67 6.507914291058519 6.080623268567528\n"
     ]
    },
    {
     "name": "stderr",
     "output_type": "stream",
     "text": [
      " 36%|███▌      | 76/210 [00:18<00:30,  4.41it/s]"
     ]
    },
    {
     "name": "stdout",
     "output_type": "stream",
     "text": [
      "model base all_0.68 6.508427985748564 6.081313319209935\n"
     ]
    },
    {
     "name": "stderr",
     "output_type": "stream",
     "text": [
      " 37%|███▋      | 77/210 [00:18<00:29,  4.44it/s]"
     ]
    },
    {
     "name": "stdout",
     "output_type": "stream",
     "text": [
      "model base all_0.6900000000000001 6.508950769912801 6.082014217834729\n"
     ]
    },
    {
     "name": "stderr",
     "output_type": "stream",
     "text": [
      " 37%|███▋      | 78/210 [00:18<00:30,  4.36it/s]"
     ]
    },
    {
     "name": "stdout",
     "output_type": "stream",
     "text": [
      "model base all_0.7000000000000001 6.509483434833283 6.082726028321477\n"
     ]
    },
    {
     "name": "stderr",
     "output_type": "stream",
     "text": [
      " 38%|███▊      | 79/210 [00:18<00:30,  4.32it/s]"
     ]
    },
    {
     "name": "stdout",
     "output_type": "stream",
     "text": [
      "model base all_0.71 6.510025659374554 6.083448638457268\n"
     ]
    },
    {
     "name": "stderr",
     "output_type": "stream",
     "text": [
      " 38%|███▊      | 80/210 [00:19<00:30,  4.30it/s]"
     ]
    },
    {
     "name": "stdout",
     "output_type": "stream",
     "text": [
      "model base all_0.72 6.510577910542766 6.084182463132047\n"
     ]
    },
    {
     "name": "stderr",
     "output_type": "stream",
     "text": [
      " 39%|███▊      | 81/210 [00:19<00:29,  4.35it/s]"
     ]
    },
    {
     "name": "stdout",
     "output_type": "stream",
     "text": [
      "model base all_0.73 6.51113968500015 6.084927208118161\n"
     ]
    },
    {
     "name": "stderr",
     "output_type": "stream",
     "text": [
      " 39%|███▉      | 82/210 [00:19<00:29,  4.29it/s]"
     ]
    },
    {
     "name": "stdout",
     "output_type": "stream",
     "text": [
      "model base all_0.74 6.51171042389882 6.085682339458272\n"
     ]
    },
    {
     "name": "stderr",
     "output_type": "stream",
     "text": [
      " 40%|███▉      | 83/210 [00:19<00:30,  4.23it/s]"
     ]
    },
    {
     "name": "stdout",
     "output_type": "stream",
     "text": [
      "model base all_0.75 6.512291224762603 6.086449800098399\n"
     ]
    },
    {
     "name": "stderr",
     "output_type": "stream",
     "text": [
      " 40%|████      | 84/210 [00:20<00:30,  4.10it/s]"
     ]
    },
    {
     "name": "stdout",
     "output_type": "stream",
     "text": [
      "model base all_0.76 6.512881228857177 6.087227994747657\n"
     ]
    },
    {
     "name": "stderr",
     "output_type": "stream",
     "text": [
      " 40%|████      | 85/210 [00:20<00:29,  4.17it/s]"
     ]
    },
    {
     "name": "stdout",
     "output_type": "stream",
     "text": [
      "model base all_0.77 6.513480699953876 6.0880174654218004\n"
     ]
    },
    {
     "name": "stderr",
     "output_type": "stream",
     "text": [
      " 41%|████      | 86/210 [00:20<00:28,  4.29it/s]"
     ]
    },
    {
     "name": "stdout",
     "output_type": "stream",
     "text": [
      "model base all_0.78 6.514089767692827 6.08881817680849\n"
     ]
    },
    {
     "name": "stderr",
     "output_type": "stream",
     "text": [
      " 41%|████▏     | 87/210 [00:20<00:28,  4.35it/s]"
     ]
    },
    {
     "name": "stdout",
     "output_type": "stream",
     "text": [
      "model base all_0.79 6.514707959214926 6.089629079165748\n"
     ]
    },
    {
     "name": "stderr",
     "output_type": "stream",
     "text": [
      " 42%|████▏     | 88/210 [00:20<00:27,  4.40it/s]"
     ]
    },
    {
     "name": "stdout",
     "output_type": "stream",
     "text": [
      "model base all_0.8 6.515336150624061 6.090451659664805\n"
     ]
    },
    {
     "name": "stderr",
     "output_type": "stream",
     "text": [
      " 42%|████▏     | 89/210 [00:21<00:27,  4.42it/s]"
     ]
    },
    {
     "name": "stdout",
     "output_type": "stream",
     "text": [
      "model base all_0.81 6.515973609373812 6.091285368068284\n"
     ]
    },
    {
     "name": "stderr",
     "output_type": "stream",
     "text": [
      " 43%|████▎     | 90/210 [00:21<00:26,  4.49it/s]"
     ]
    },
    {
     "name": "stdout",
     "output_type": "stream",
     "text": [
      "model base all_0.8200000000000001 6.516620705944048 6.092130071275388\n"
     ]
    },
    {
     "name": "stderr",
     "output_type": "stream",
     "text": [
      " 43%|████▎     | 91/210 [00:21<00:26,  4.50it/s]"
     ]
    },
    {
     "name": "stdout",
     "output_type": "stream",
     "text": [
      "model base all_0.8300000000000001 6.517277373100528 6.09298552344755\n"
     ]
    },
    {
     "name": "stderr",
     "output_type": "stream",
     "text": [
      " 44%|████▍     | 92/210 [00:21<00:27,  4.30it/s]"
     ]
    },
    {
     "name": "stdout",
     "output_type": "stream",
     "text": [
      "model base all_0.84 6.51794326547289 6.093852221715421\n"
     ]
    },
    {
     "name": "stderr",
     "output_type": "stream",
     "text": [
      " 44%|████▍     | 93/210 [00:22<00:27,  4.30it/s]"
     ]
    },
    {
     "name": "stdout",
     "output_type": "stream",
     "text": [
      "model base all_0.85 6.518618822977119 6.094730536273444\n",
      "model base all_0.86 6.519304058071743 6.0956201415567905\n"
     ]
    },
    {
     "name": "stderr",
     "output_type": "stream",
     "text": [
      " 45%|████▌     | 95/210 [00:22<00:26,  4.37it/s]"
     ]
    },
    {
     "name": "stdout",
     "output_type": "stream",
     "text": [
      "model base all_0.87 6.51999857731448 6.096520632907208\n"
     ]
    },
    {
     "name": "stderr",
     "output_type": "stream",
     "text": [
      " 46%|████▌     | 96/210 [00:22<00:26,  4.29it/s]"
     ]
    },
    {
     "name": "stdout",
     "output_type": "stream",
     "text": [
      "model base all_0.88 6.520702573505648 6.0974324770166035\n"
     ]
    },
    {
     "name": "stderr",
     "output_type": "stream",
     "text": [
      " 46%|████▌     | 97/210 [00:22<00:26,  4.20it/s]"
     ]
    },
    {
     "name": "stdout",
     "output_type": "stream",
     "text": [
      "model base all_0.89 6.521415880997704 6.098355763397318\n"
     ]
    },
    {
     "name": "stderr",
     "output_type": "stream",
     "text": [
      " 47%|████▋     | 98/210 [00:23<00:27,  4.06it/s]"
     ]
    },
    {
     "name": "stdout",
     "output_type": "stream",
     "text": [
      "model base all_0.9 6.5221390523274545 6.099290413844597\n"
     ]
    },
    {
     "name": "stderr",
     "output_type": "stream",
     "text": [
      " 47%|████▋     | 99/210 [00:23<00:27,  4.07it/s]"
     ]
    },
    {
     "name": "stdout",
     "output_type": "stream",
     "text": [
      "model base all_0.91 6.5228717655862445 6.100236344162647\n"
     ]
    },
    {
     "name": "stderr",
     "output_type": "stream",
     "text": [
      " 48%|████▊     | 100/210 [00:23<00:27,  4.05it/s]"
     ]
    },
    {
     "name": "stdout",
     "output_type": "stream",
     "text": [
      "model base all_0.92 6.523613544716706 6.10119307293258\n"
     ]
    },
    {
     "name": "stderr",
     "output_type": "stream",
     "text": [
      " 48%|████▊     | 101/210 [00:23<00:26,  4.14it/s]"
     ]
    },
    {
     "name": "stdout",
     "output_type": "stream",
     "text": [
      "model base all_0.93 6.524365196950394 6.1021617943736715\n"
     ]
    },
    {
     "name": "stderr",
     "output_type": "stream",
     "text": [
      " 49%|████▊     | 102/210 [00:24<00:25,  4.22it/s]"
     ]
    },
    {
     "name": "stdout",
     "output_type": "stream",
     "text": [
      "model base all_0.9400000000000001 6.525125643078221 6.103140694318295\n"
     ]
    },
    {
     "name": "stderr",
     "output_type": "stream",
     "text": [
      " 49%|████▉     | 103/210 [00:24<00:24,  4.33it/s]"
     ]
    },
    {
     "name": "stdout",
     "output_type": "stream",
     "text": [
      "model base all_0.9500000000000001 6.5258956516617745 6.104131130275482\n"
     ]
    },
    {
     "name": "stderr",
     "output_type": "stream",
     "text": [
      " 50%|████▉     | 104/210 [00:24<00:24,  4.34it/s]"
     ]
    },
    {
     "name": "stdout",
     "output_type": "stream",
     "text": [
      "model base all_0.96 6.526675394491854 6.105132759727756\n"
     ]
    },
    {
     "name": "stderr",
     "output_type": "stream",
     "text": [
      " 50%|█████     | 105/210 [00:24<00:23,  4.45it/s]"
     ]
    },
    {
     "name": "stdout",
     "output_type": "stream",
     "text": [
      "model base all_0.97 6.527464410056107 6.106145600410111\n"
     ]
    },
    {
     "name": "stderr",
     "output_type": "stream",
     "text": [
      " 50%|█████     | 106/210 [00:25<00:23,  4.39it/s]"
     ]
    },
    {
     "name": "stdout",
     "output_type": "stream",
     "text": [
      "model base all_0.98 6.528262825742295 6.107169219279966\n"
     ]
    },
    {
     "name": "stderr",
     "output_type": "stream",
     "text": [
      " 51%|█████     | 107/210 [00:25<00:24,  4.25it/s]"
     ]
    },
    {
     "name": "stdout",
     "output_type": "stream",
     "text": [
      "model base all_0.99 6.52906999889257 6.10820300933197\n"
     ]
    },
    {
     "name": "stderr",
     "output_type": "stream",
     "text": [
      " 51%|█████▏    | 108/210 [00:25<00:23,  4.27it/s]"
     ]
    },
    {
     "name": "stdout",
     "output_type": "stream",
     "text": [
      "model base all_1.0 6.529886686134557 6.109248081867259\n"
     ]
    },
    {
     "name": "stderr",
     "output_type": "stream",
     "text": [
      " 52%|█████▏    | 109/210 [00:25<00:25,  4.04it/s]"
     ]
    },
    {
     "name": "stdout",
     "output_type": "stream",
     "text": [
      "model base train_0.01 6.495168345047446 6.059905319251177\n"
     ]
    },
    {
     "name": "stderr",
     "output_type": "stream",
     "text": [
      " 52%|█████▏    | 110/210 [00:26<00:24,  4.03it/s]"
     ]
    },
    {
     "name": "stdout",
     "output_type": "stream",
     "text": [
      "model base train_0.02 6.4950493324266265 6.059855022678736\n"
     ]
    },
    {
     "name": "stderr",
     "output_type": "stream",
     "text": [
      " 53%|█████▎    | 111/210 [00:26<00:24,  4.12it/s]"
     ]
    },
    {
     "name": "stdout",
     "output_type": "stream",
     "text": [
      "model base train_0.03 6.494940306042607 6.059816853710249\n"
     ]
    },
    {
     "name": "stderr",
     "output_type": "stream",
     "text": [
      " 53%|█████▎    | 112/210 [00:26<00:23,  4.24it/s]"
     ]
    },
    {
     "name": "stdout",
     "output_type": "stream",
     "text": [
      "model base train_0.04 6.494840961386326 6.059789111138065\n"
     ]
    },
    {
     "name": "stderr",
     "output_type": "stream",
     "text": [
      " 54%|█████▍    | 113/210 [00:26<00:22,  4.25it/s]"
     ]
    },
    {
     "name": "stdout",
     "output_type": "stream",
     "text": [
      "model base train_0.05 6.494751203609651 6.059772038413218\n"
     ]
    },
    {
     "name": "stderr",
     "output_type": "stream",
     "text": [
      " 54%|█████▍    | 114/210 [00:26<00:22,  4.36it/s]"
     ]
    },
    {
     "name": "stdout",
     "output_type": "stream",
     "text": [
      "model base train_0.06 6.494671130651271 6.059766840839879\n"
     ]
    },
    {
     "name": "stderr",
     "output_type": "stream",
     "text": [
      " 55%|█████▍    | 115/210 [00:27<00:21,  4.44it/s]"
     ]
    },
    {
     "name": "stdout",
     "output_type": "stream",
     "text": [
      "model base train_0.07 6.494599951329838 6.05977210955015\n"
     ]
    },
    {
     "name": "stderr",
     "output_type": "stream",
     "text": [
      " 55%|█████▌    | 116/210 [00:27<00:20,  4.48it/s]"
     ]
    },
    {
     "name": "stdout",
     "output_type": "stream",
     "text": [
      "model base train_0.08 6.494538799648997 6.059788799624698\n"
     ]
    },
    {
     "name": "stderr",
     "output_type": "stream",
     "text": [
      " 56%|█████▌    | 117/210 [00:27<00:20,  4.47it/s]"
     ]
    },
    {
     "name": "stdout",
     "output_type": "stream",
     "text": [
      "model base train_0.09 6.494486821984425 6.0598162896994525\n"
     ]
    },
    {
     "name": "stderr",
     "output_type": "stream",
     "text": [
      " 56%|█████▌    | 118/210 [00:27<00:20,  4.44it/s]"
     ]
    },
    {
     "name": "stdout",
     "output_type": "stream",
     "text": [
      "model base train_0.1 6.49444453038579 6.059855129648676\n"
     ]
    },
    {
     "name": "stderr",
     "output_type": "stream",
     "text": [
      " 57%|█████▋    | 119/210 [00:28<00:20,  4.46it/s]"
     ]
    },
    {
     "name": "stdout",
     "output_type": "stream",
     "text": [
      "model base train_0.11 6.494412369070346 6.0599047322272\n"
     ]
    },
    {
     "name": "stderr",
     "output_type": "stream",
     "text": [
      " 57%|█████▋    | 120/210 [00:28<00:20,  4.47it/s]"
     ]
    },
    {
     "name": "stdout",
     "output_type": "stream",
     "text": [
      "model base train_0.12 6.4943899593832 6.059965788492065\n"
     ]
    },
    {
     "name": "stderr",
     "output_type": "stream",
     "text": [
      " 58%|█████▊    | 121/210 [00:28<00:20,  4.28it/s]"
     ]
    },
    {
     "name": "stdout",
     "output_type": "stream",
     "text": [
      "model base train_0.13 6.49437733019851 6.060038137040581\n"
     ]
    },
    {
     "name": "stderr",
     "output_type": "stream",
     "text": [
      " 58%|█████▊    | 122/210 [00:28<00:20,  4.19it/s]"
     ]
    },
    {
     "name": "stdout",
     "output_type": "stream",
     "text": [
      "model base train_0.14 6.494374463487253 6.060122279453332\n"
     ]
    },
    {
     "name": "stderr",
     "output_type": "stream",
     "text": [
      " 59%|█████▊    | 123/210 [00:29<00:21,  4.09it/s]"
     ]
    },
    {
     "name": "stdout",
     "output_type": "stream",
     "text": [
      "model base train_0.15 6.494380768962249 6.060217310889766\n"
     ]
    },
    {
     "name": "stderr",
     "output_type": "stream",
     "text": [
      " 59%|█████▉    | 124/210 [00:29<00:20,  4.16it/s]"
     ]
    },
    {
     "name": "stdout",
     "output_type": "stream",
     "text": [
      "model base train_0.16 6.494396925945896 6.060323361716763\n"
     ]
    },
    {
     "name": "stderr",
     "output_type": "stream",
     "text": [
      " 60%|█████▉    | 125/210 [00:29<00:19,  4.26it/s]"
     ]
    },
    {
     "name": "stdout",
     "output_type": "stream",
     "text": [
      "model base train_0.17 6.49442253990138 6.060440388201933\n"
     ]
    },
    {
     "name": "stderr",
     "output_type": "stream",
     "text": [
      " 60%|██████    | 126/210 [00:29<00:20,  4.14it/s]"
     ]
    },
    {
     "name": "stdout",
     "output_type": "stream",
     "text": [
      "model base train_0.18 6.49445751128247 6.060568584909489\n"
     ]
    },
    {
     "name": "stderr",
     "output_type": "stream",
     "text": [
      " 60%|██████    | 127/210 [00:30<00:19,  4.22it/s]"
     ]
    },
    {
     "name": "stdout",
     "output_type": "stream",
     "text": [
      "model base train_0.19 6.494502268143215 6.060707826507982\n"
     ]
    },
    {
     "name": "stderr",
     "output_type": "stream",
     "text": [
      " 61%|██████    | 128/210 [00:30<00:18,  4.34it/s]"
     ]
    },
    {
     "name": "stdout",
     "output_type": "stream",
     "text": [
      "model base train_0.2 6.494556293596602 6.060857678241501\n"
     ]
    },
    {
     "name": "stderr",
     "output_type": "stream",
     "text": [
      " 61%|██████▏   | 129/210 [00:30<00:18,  4.40it/s]"
     ]
    },
    {
     "name": "stdout",
     "output_type": "stream",
     "text": [
      "model base train_0.21 6.494620552503534 6.061019120699473\n"
     ]
    },
    {
     "name": "stderr",
     "output_type": "stream",
     "text": [
      " 62%|██████▏   | 130/210 [00:30<00:18,  4.33it/s]"
     ]
    },
    {
     "name": "stdout",
     "output_type": "stream",
     "text": [
      "model base train_0.22 6.494693974951553 6.061191216058762\n",
      "model base train_0.23 6.4947771035117485 6.061374669290988\n"
     ]
    },
    {
     "name": "stderr",
     "output_type": "stream",
     "text": [
      " 63%|██████▎   | 132/210 [00:31<00:17,  4.38it/s]"
     ]
    },
    {
     "name": "stdout",
     "output_type": "stream",
     "text": [
      "model base train_0.24 6.4948699094116185 6.061569255535798\n"
     ]
    },
    {
     "name": "stderr",
     "output_type": "stream",
     "text": [
      " 63%|██████▎   | 133/210 [00:31<00:17,  4.36it/s]"
     ]
    },
    {
     "name": "stdout",
     "output_type": "stream",
     "text": [
      "model base train_0.25 6.494971990346579 6.061774167274309\n"
     ]
    },
    {
     "name": "stderr",
     "output_type": "stream",
     "text": [
      " 64%|██████▍   | 134/210 [00:31<00:16,  4.48it/s]"
     ]
    },
    {
     "name": "stdout",
     "output_type": "stream",
     "text": [
      "model base train_0.26 6.495084153705598 6.061990638991569\n"
     ]
    },
    {
     "name": "stderr",
     "output_type": "stream",
     "text": [
      " 64%|██████▍   | 135/210 [00:31<00:16,  4.42it/s]"
     ]
    },
    {
     "name": "stdout",
     "output_type": "stream",
     "text": [
      "model base train_0.27 6.495205542249088 6.062217891426538\n"
     ]
    },
    {
     "name": "stderr",
     "output_type": "stream",
     "text": [
      " 65%|██████▍   | 136/210 [00:32<00:17,  4.18it/s]"
     ]
    },
    {
     "name": "stdout",
     "output_type": "stream",
     "text": [
      "model base train_0.28 6.495336487003653 6.0624571534014144\n"
     ]
    },
    {
     "name": "stderr",
     "output_type": "stream",
     "text": [
      " 65%|██████▌   | 137/210 [00:32<00:17,  4.17it/s]"
     ]
    },
    {
     "name": "stdout",
     "output_type": "stream",
     "text": [
      "model base train_0.29 6.495477147730303 6.062708661966553\n"
     ]
    },
    {
     "name": "stderr",
     "output_type": "stream",
     "text": [
      " 66%|██████▌   | 138/210 [00:32<00:17,  4.13it/s]"
     ]
    },
    {
     "name": "stdout",
     "output_type": "stream",
     "text": [
      "model base train_0.3 6.4956273661847685 6.062971442280117\n"
     ]
    },
    {
     "name": "stderr",
     "output_type": "stream",
     "text": [
      " 66%|██████▌   | 139/210 [00:32<00:17,  4.11it/s]"
     ]
    },
    {
     "name": "stdout",
     "output_type": "stream",
     "text": [
      "model base train_0.31 6.495787461736802 6.063245684453548\n"
     ]
    },
    {
     "name": "stderr",
     "output_type": "stream",
     "text": [
      " 67%|██████▋   | 140/210 [00:33<00:16,  4.19it/s]"
     ]
    },
    {
     "name": "stdout",
     "output_type": "stream",
     "text": [
      "model base train_0.32 6.495957415080324 6.063531482445394\n"
     ]
    },
    {
     "name": "stderr",
     "output_type": "stream",
     "text": [
      " 67%|██████▋   | 141/210 [00:33<00:16,  4.29it/s]"
     ]
    },
    {
     "name": "stdout",
     "output_type": "stream",
     "text": [
      "model base train_0.33 6.496136507906777 6.063827926205337\n"
     ]
    },
    {
     "name": "stderr",
     "output_type": "stream",
     "text": [
      " 68%|██████▊   | 142/210 [00:33<00:15,  4.39it/s]"
     ]
    },
    {
     "name": "stdout",
     "output_type": "stream",
     "text": [
      "model base train_0.34 6.496325524029547 6.064135971854595\n"
     ]
    },
    {
     "name": "stderr",
     "output_type": "stream",
     "text": [
      " 68%|██████▊   | 143/210 [00:33<00:15,  4.32it/s]"
     ]
    },
    {
     "name": "stdout",
     "output_type": "stream",
     "text": [
      "model base train_0.35000000000000003 6.49652397579425 6.0644555710611705\n",
      "model base train_0.36 6.496731955329616 6.0647873388812155\n"
     ]
    },
    {
     "name": "stderr",
     "output_type": "stream",
     "text": [
      " 69%|██████▉   | 145/210 [00:34<00:14,  4.55it/s]"
     ]
    },
    {
     "name": "stdout",
     "output_type": "stream",
     "text": [
      "model base train_0.37 6.496949508112708 6.065130335234214\n"
     ]
    },
    {
     "name": "stderr",
     "output_type": "stream",
     "text": [
      " 70%|██████▉   | 146/210 [00:34<00:14,  4.54it/s]"
     ]
    },
    {
     "name": "stdout",
     "output_type": "stream",
     "text": [
      "model base train_0.38 6.497176049908959 6.0654834640102395\n"
     ]
    },
    {
     "name": "stderr",
     "output_type": "stream",
     "text": [
      " 70%|███████   | 147/210 [00:34<00:14,  4.49it/s]"
     ]
    },
    {
     "name": "stdout",
     "output_type": "stream",
     "text": [
      "model base train_0.39 6.497412707811127 6.065848538302397\n"
     ]
    },
    {
     "name": "stderr",
     "output_type": "stream",
     "text": [
      " 70%|███████   | 148/210 [00:34<00:14,  4.39it/s]"
     ]
    },
    {
     "name": "stdout",
     "output_type": "stream",
     "text": [
      "model base train_0.4 6.497658526478582 6.066224619477885\n"
     ]
    },
    {
     "name": "stderr",
     "output_type": "stream",
     "text": [
      " 71%|███████   | 149/210 [00:35<00:13,  4.40it/s]"
     ]
    },
    {
     "name": "stdout",
     "output_type": "stream",
     "text": [
      "model base train_0.41000000000000003 6.497913966970667 6.0666118098491335\n"
     ]
    },
    {
     "name": "stderr",
     "output_type": "stream",
     "text": [
      " 71%|███████▏  | 150/210 [00:35<00:14,  4.25it/s]"
     ]
    },
    {
     "name": "stdout",
     "output_type": "stream",
     "text": [
      "model base train_0.42 6.498179083676781 6.0670101988321425\n"
     ]
    },
    {
     "name": "stderr",
     "output_type": "stream",
     "text": [
      " 72%|███████▏  | 151/210 [00:35<00:13,  4.29it/s]"
     ]
    },
    {
     "name": "stdout",
     "output_type": "stream",
     "text": [
      "model base train_0.43 6.498453585974548 6.067419761620666\n"
     ]
    },
    {
     "name": "stderr",
     "output_type": "stream",
     "text": [
      " 72%|███████▏  | 152/210 [00:35<00:14,  4.11it/s]"
     ]
    },
    {
     "name": "stdout",
     "output_type": "stream",
     "text": [
      "model base train_0.44 6.4987383027142736 6.067841745188995\n"
     ]
    },
    {
     "name": "stderr",
     "output_type": "stream",
     "text": [
      " 73%|███████▎  | 153/210 [00:36<00:14,  3.91it/s]"
     ]
    },
    {
     "name": "stdout",
     "output_type": "stream",
     "text": [
      "model base train_0.45 6.499032152512075 6.068274541937437\n"
     ]
    },
    {
     "name": "stderr",
     "output_type": "stream",
     "text": [
      " 73%|███████▎  | 154/210 [00:36<00:13,  4.02it/s]"
     ]
    },
    {
     "name": "stdout",
     "output_type": "stream",
     "text": [
      "model base train_0.46 6.499335686912825 6.06871830735413\n"
     ]
    },
    {
     "name": "stderr",
     "output_type": "stream",
     "text": [
      " 74%|███████▍  | 155/210 [00:36<00:13,  4.05it/s]"
     ]
    },
    {
     "name": "stdout",
     "output_type": "stream",
     "text": [
      "model base train_0.47000000000000003 6.49964896777262 6.069173208449254\n"
     ]
    },
    {
     "name": "stderr",
     "output_type": "stream",
     "text": [
      " 74%|███████▍  | 156/210 [00:36<00:13,  4.10it/s]"
     ]
    },
    {
     "name": "stdout",
     "output_type": "stream",
     "text": [
      "model base train_0.48 6.499971756891589 6.069639347208668\n"
     ]
    },
    {
     "name": "stderr",
     "output_type": "stream",
     "text": [
      " 75%|███████▍  | 157/210 [00:37<00:13,  3.99it/s]"
     ]
    },
    {
     "name": "stdout",
     "output_type": "stream",
     "text": [
      "model base train_0.49 6.500304316396114 6.070117189513531\n"
     ]
    },
    {
     "name": "stderr",
     "output_type": "stream",
     "text": [
      " 75%|███████▌  | 158/210 [00:37<00:12,  4.07it/s]"
     ]
    },
    {
     "name": "stdout",
     "output_type": "stream",
     "text": [
      "model base train_0.5 6.500646524450991 6.070606789866385\n"
     ]
    },
    {
     "name": "stderr",
     "output_type": "stream",
     "text": [
      " 76%|███████▌  | 159/210 [00:37<00:12,  4.14it/s]"
     ]
    },
    {
     "name": "stdout",
     "output_type": "stream",
     "text": [
      "model base train_0.51 6.50099782209081 6.071106479177509\n"
     ]
    },
    {
     "name": "stderr",
     "output_type": "stream",
     "text": [
      " 76%|███████▌  | 160/210 [00:37<00:12,  4.10it/s]"
     ]
    },
    {
     "name": "stdout",
     "output_type": "stream",
     "text": [
      "model base train_0.52 6.501358851313129 6.071617320377826\n"
     ]
    },
    {
     "name": "stderr",
     "output_type": "stream",
     "text": [
      " 77%|███████▋  | 161/210 [00:38<00:11,  4.15it/s]"
     ]
    },
    {
     "name": "stdout",
     "output_type": "stream",
     "text": [
      "model base train_0.53 6.501729202763987 6.072139258982725\n"
     ]
    },
    {
     "name": "stderr",
     "output_type": "stream",
     "text": [
      " 77%|███████▋  | 162/210 [00:38<00:11,  4.08it/s]"
     ]
    },
    {
     "name": "stdout",
     "output_type": "stream",
     "text": [
      "model base train_0.54 6.502109186727633 6.072672471153748\n"
     ]
    },
    {
     "name": "stderr",
     "output_type": "stream",
     "text": [
      " 78%|███████▊  | 163/210 [00:38<00:12,  3.86it/s]"
     ]
    },
    {
     "name": "stdout",
     "output_type": "stream",
     "text": [
      "model base train_0.55 6.502499021695641 6.0732167511196815\n"
     ]
    },
    {
     "name": "stderr",
     "output_type": "stream",
     "text": [
      " 78%|███████▊  | 164/210 [00:38<00:11,  3.91it/s]"
     ]
    },
    {
     "name": "stdout",
     "output_type": "stream",
     "text": [
      "model base train_0.56 6.502898046214224 6.0737715239581505\n"
     ]
    },
    {
     "name": "stderr",
     "output_type": "stream",
     "text": [
      " 79%|███████▊  | 165/210 [00:39<00:11,  4.03it/s]"
     ]
    },
    {
     "name": "stdout",
     "output_type": "stream",
     "text": [
      "model base train_0.5700000000000001 6.503306986055989 6.074337345251974\n"
     ]
    },
    {
     "name": "stderr",
     "output_type": "stream",
     "text": [
      " 79%|███████▉  | 166/210 [00:39<00:10,  4.10it/s]"
     ]
    },
    {
     "name": "stdout",
     "output_type": "stream",
     "text": [
      "model base train_0.58 6.503724740496796 6.074913915230776\n"
     ]
    },
    {
     "name": "stderr",
     "output_type": "stream",
     "text": [
      " 80%|███████▉  | 167/210 [00:39<00:10,  4.23it/s]"
     ]
    },
    {
     "name": "stdout",
     "output_type": "stream",
     "text": [
      "model base train_0.59 6.504152164467631 6.075502440352742\n"
     ]
    },
    {
     "name": "stderr",
     "output_type": "stream",
     "text": [
      " 80%|████████  | 168/210 [00:39<00:10,  3.93it/s]"
     ]
    },
    {
     "name": "stdout",
     "output_type": "stream",
     "text": [
      "model base train_0.6 6.504589486495899 6.076102405128212\n"
     ]
    },
    {
     "name": "stderr",
     "output_type": "stream",
     "text": [
      " 80%|████████  | 169/210 [00:40<00:10,  3.81it/s]"
     ]
    },
    {
     "name": "stdout",
     "output_type": "stream",
     "text": [
      "model base train_0.61 6.505035965650123 6.076713516776539\n"
     ]
    },
    {
     "name": "stderr",
     "output_type": "stream",
     "text": [
      " 81%|████████  | 170/210 [00:40<00:10,  3.77it/s]"
     ]
    },
    {
     "name": "stdout",
     "output_type": "stream",
     "text": [
      "model base train_0.62 6.5054921947143765 6.077336527996546\n"
     ]
    },
    {
     "name": "stderr",
     "output_type": "stream",
     "text": [
      " 81%|████████▏ | 171/210 [00:40<00:10,  3.83it/s]"
     ]
    },
    {
     "name": "stdout",
     "output_type": "stream",
     "text": [
      "model base train_0.63 6.505957380633595 6.077970507654298\n"
     ]
    },
    {
     "name": "stderr",
     "output_type": "stream",
     "text": [
      " 82%|████████▏ | 172/210 [00:40<00:09,  3.93it/s]"
     ]
    },
    {
     "name": "stdout",
     "output_type": "stream",
     "text": [
      "model base train_0.64 6.506432427486151 6.078616354259624\n"
     ]
    },
    {
     "name": "stderr",
     "output_type": "stream",
     "text": [
      " 82%|████████▏ | 173/210 [00:41<00:09,  3.82it/s]"
     ]
    },
    {
     "name": "stdout",
     "output_type": "stream",
     "text": [
      "model base train_0.65 6.506917059975283 6.07927378049533\n"
     ]
    },
    {
     "name": "stderr",
     "output_type": "stream",
     "text": [
      " 83%|████████▎ | 174/210 [00:41<00:09,  3.77it/s]"
     ]
    },
    {
     "name": "stdout",
     "output_type": "stream",
     "text": [
      "model base train_0.66 6.507411122227479 6.079942012067462\n"
     ]
    },
    {
     "name": "stderr",
     "output_type": "stream",
     "text": [
      " 83%|████████▎ | 175/210 [00:41<00:09,  3.78it/s]"
     ]
    },
    {
     "name": "stdout",
     "output_type": "stream",
     "text": [
      "model base train_0.67 6.507915018839036 6.080621123386359\n"
     ]
    },
    {
     "name": "stderr",
     "output_type": "stream",
     "text": [
      " 84%|████████▍ | 176/210 [00:41<00:08,  3.78it/s]"
     ]
    },
    {
     "name": "stdout",
     "output_type": "stream",
     "text": [
      "model base train_0.68 6.508428716030545 6.081311136148628\n"
     ]
    },
    {
     "name": "stderr",
     "output_type": "stream",
     "text": [
      " 84%|████████▍ | 177/210 [00:42<00:08,  3.88it/s]"
     ]
    },
    {
     "name": "stdout",
     "output_type": "stream",
     "text": [
      "model base train_0.6900000000000001 6.508951506374881 6.082011988151716\n"
     ]
    },
    {
     "name": "stderr",
     "output_type": "stream",
     "text": [
      " 85%|████████▍ | 178/210 [00:42<00:08,  3.94it/s]"
     ]
    },
    {
     "name": "stdout",
     "output_type": "stream",
     "text": [
      "model base train_0.7000000000000001 6.509484174679703 6.082723794559068\n"
     ]
    },
    {
     "name": "stderr",
     "output_type": "stream",
     "text": [
      " 85%|████████▌ | 179/210 [00:42<00:07,  3.97it/s]"
     ]
    },
    {
     "name": "stdout",
     "output_type": "stream",
     "text": [
      "model base train_0.71 6.510026411728325 6.083446390125577\n"
     ]
    },
    {
     "name": "stderr",
     "output_type": "stream",
     "text": [
      " 86%|████████▌ | 180/210 [00:42<00:07,  4.00it/s]"
     ]
    },
    {
     "name": "stdout",
     "output_type": "stream",
     "text": [
      "model base train_0.72 6.510578653184959 6.084180167595877\n"
     ]
    },
    {
     "name": "stderr",
     "output_type": "stream",
     "text": [
      " 86%|████████▌ | 181/210 [00:43<00:07,  3.96it/s]"
     ]
    },
    {
     "name": "stdout",
     "output_type": "stream",
     "text": [
      "model base train_0.73 6.511140429113788 6.084924875284631\n"
     ]
    },
    {
     "name": "stderr",
     "output_type": "stream",
     "text": [
      " 87%|████████▋ | 182/210 [00:43<00:07,  3.99it/s]"
     ]
    },
    {
     "name": "stdout",
     "output_type": "stream",
     "text": [
      "model base train_0.74 6.511711170219631 6.085679982148343\n"
     ]
    },
    {
     "name": "stderr",
     "output_type": "stream",
     "text": [
      " 87%|████████▋ | 183/210 [00:43<00:06,  3.98it/s]"
     ]
    },
    {
     "name": "stdout",
     "output_type": "stream",
     "text": [
      "model base train_0.75 6.512291970789128 6.0864473792664\n"
     ]
    },
    {
     "name": "stderr",
     "output_type": "stream",
     "text": [
      " 88%|████████▊ | 184/210 [00:43<00:06,  4.09it/s]"
     ]
    },
    {
     "name": "stdout",
     "output_type": "stream",
     "text": [
      "model base train_0.76 6.5128819687036055 6.0872255511875775\n"
     ]
    },
    {
     "name": "stderr",
     "output_type": "stream",
     "text": [
      " 88%|████████▊ | 185/210 [00:44<00:06,  4.17it/s]"
     ]
    },
    {
     "name": "stdout",
     "output_type": "stream",
     "text": [
      "model base train_0.77 6.513481447157552 6.088015007875208\n"
     ]
    },
    {
     "name": "stderr",
     "output_type": "stream",
     "text": [
      " 89%|████████▊ | 186/210 [00:44<00:05,  4.02it/s]"
     ]
    },
    {
     "name": "stdout",
     "output_type": "stream",
     "text": [
      "model base train_0.78 6.51409051298362 6.088815679050682\n"
     ]
    },
    {
     "name": "stderr",
     "output_type": "stream",
     "text": [
      " 89%|████████▉ | 187/210 [00:44<00:05,  4.02it/s]"
     ]
    },
    {
     "name": "stdout",
     "output_type": "stream",
     "text": [
      "model base train_0.79 6.514708698031334 6.089626551686601\n"
     ]
    },
    {
     "name": "stderr",
     "output_type": "stream",
     "text": [
      " 90%|████████▉ | 188/210 [00:44<00:05,  4.02it/s]"
     ]
    },
    {
     "name": "stdout",
     "output_type": "stream",
     "text": [
      "model base train_0.8 6.515336890029048 6.090449101298784\n"
     ]
    },
    {
     "name": "stderr",
     "output_type": "stream",
     "text": [
      " 90%|█████████ | 189/210 [00:45<00:05,  4.10it/s]"
     ]
    },
    {
     "name": "stdout",
     "output_type": "stream",
     "text": [
      "model base train_0.81 6.515974335388578 6.091282764828867\n"
     ]
    },
    {
     "name": "stderr",
     "output_type": "stream",
     "text": [
      " 90%|█████████ | 190/210 [00:45<00:05,  3.94it/s]"
     ]
    },
    {
     "name": "stdout",
     "output_type": "stream",
     "text": [
      "model base train_0.8200000000000001 6.516621428868759 6.092127428990293\n"
     ]
    },
    {
     "name": "stderr",
     "output_type": "stream",
     "text": [
      " 91%|█████████ | 191/210 [00:45<00:04,  3.94it/s]"
     ]
    },
    {
     "name": "stdout",
     "output_type": "stream",
     "text": [
      "model base train_0.8300000000000001 6.517278090875151 6.0929828660104\n"
     ]
    },
    {
     "name": "stderr",
     "output_type": "stream",
     "text": [
      " 91%|█████████▏| 192/210 [00:45<00:04,  4.03it/s]"
     ]
    },
    {
     "name": "stdout",
     "output_type": "stream",
     "text": [
      "model base train_0.84 6.517943977214561 6.093849529894765\n"
     ]
    },
    {
     "name": "stderr",
     "output_type": "stream",
     "text": [
      " 92%|█████████▏| 193/210 [00:46<00:04,  4.10it/s]"
     ]
    },
    {
     "name": "stdout",
     "output_type": "stream",
     "text": [
      "model base train_0.85 6.518619519857123 6.094727812400368\n"
     ]
    },
    {
     "name": "stderr",
     "output_type": "stream",
     "text": [
      " 92%|█████████▏| 194/210 [00:46<00:03,  4.22it/s]"
     ]
    },
    {
     "name": "stdout",
     "output_type": "stream",
     "text": [
      "model base train_0.86 6.519304754068866 6.095617392041774\n"
     ]
    },
    {
     "name": "stderr",
     "output_type": "stream",
     "text": [
      " 93%|█████████▎| 195/210 [00:46<00:03,  4.36it/s]"
     ]
    },
    {
     "name": "stdout",
     "output_type": "stream",
     "text": [
      "model base train_0.87 6.519999270368706 6.096517829777234\n"
     ]
    },
    {
     "name": "stderr",
     "output_type": "stream",
     "text": [
      " 93%|█████████▎| 196/210 [00:46<00:03,  4.34it/s]"
     ]
    },
    {
     "name": "stdout",
     "output_type": "stream",
     "text": [
      "model base train_0.88 6.5207032686199025 6.097429663396743\n"
     ]
    },
    {
     "name": "stderr",
     "output_type": "stream",
     "text": [
      " 94%|█████████▍| 197/210 [00:47<00:02,  4.39it/s]"
     ]
    },
    {
     "name": "stdout",
     "output_type": "stream",
     "text": [
      "model base train_0.89 6.521416574346218 6.098352931128779\n"
     ]
    },
    {
     "name": "stderr",
     "output_type": "stream",
     "text": [
      " 94%|█████████▍| 198/210 [00:47<00:02,  4.35it/s]"
     ]
    },
    {
     "name": "stdout",
     "output_type": "stream",
     "text": [
      "model base train_0.9 6.522139735081516 6.099287560596289\n"
     ]
    },
    {
     "name": "stderr",
     "output_type": "stream",
     "text": [
      " 95%|█████████▍| 199/210 [00:47<00:02,  4.34it/s]"
     ]
    },
    {
     "name": "stdout",
     "output_type": "stream",
     "text": [
      "model base train_0.91 6.5228724471631425 6.100233448372035\n"
     ]
    },
    {
     "name": "stderr",
     "output_type": "stream",
     "text": [
      " 95%|█████████▌| 200/210 [00:47<00:02,  4.36it/s]"
     ]
    },
    {
     "name": "stdout",
     "output_type": "stream",
     "text": [
      "model base train_0.92 6.523614223056399 6.101190161407143\n"
     ]
    },
    {
     "name": "stderr",
     "output_type": "stream",
     "text": [
      " 96%|█████████▌| 201/210 [00:47<00:02,  4.33it/s]"
     ]
    },
    {
     "name": "stdout",
     "output_type": "stream",
     "text": [
      "model base train_0.93 6.52436587323006 6.102158842054243\n"
     ]
    },
    {
     "name": "stderr",
     "output_type": "stream",
     "text": [
      " 96%|█████████▌| 202/210 [00:48<00:01,  4.33it/s]"
     ]
    },
    {
     "name": "stdout",
     "output_type": "stream",
     "text": [
      "model base train_0.9400000000000001 6.525126326273711 6.103137740250552\n"
     ]
    },
    {
     "name": "stderr",
     "output_type": "stream",
     "text": [
      " 97%|█████████▋| 203/210 [00:48<00:01,  4.35it/s]"
     ]
    },
    {
     "name": "stdout",
     "output_type": "stream",
     "text": [
      "model base train_0.9500000000000001 6.52589634501029 6.104128135996521\n"
     ]
    },
    {
     "name": "stderr",
     "output_type": "stream",
     "text": [
      " 97%|█████████▋| 204/210 [00:48<00:01,  4.28it/s]"
     ]
    },
    {
     "name": "stdout",
     "output_type": "stream",
     "text": [
      "model base train_0.96 6.5266760848974625 6.105129723489258\n"
     ]
    },
    {
     "name": "stderr",
     "output_type": "stream",
     "text": [
      " 98%|█████████▊| 205/210 [00:48<00:01,  4.33it/s]"
     ]
    },
    {
     "name": "stdout",
     "output_type": "stream",
     "text": [
      "model base train_0.97 6.52746509236873 6.1061425321191924\n"
     ]
    },
    {
     "name": "stderr",
     "output_type": "stream",
     "text": [
      " 98%|█████████▊| 206/210 [00:49<00:00,  4.29it/s]"
     ]
    },
    {
     "name": "stdout",
     "output_type": "stream",
     "text": [
      "model base train_0.98 6.52826350319912 6.107166118936625\n"
     ]
    },
    {
     "name": "stderr",
     "output_type": "stream",
     "text": [
      " 99%|█████████▊| 207/210 [00:49<00:00,  4.13it/s]"
     ]
    },
    {
     "name": "stdout",
     "output_type": "stream",
     "text": [
      "model base train_0.99 6.529070671787895 6.108199876353436\n"
     ]
    },
    {
     "name": "stderr",
     "output_type": "stream",
     "text": [
      " 99%|█████████▉| 208/210 [00:49<00:00,  4.17it/s]"
     ]
    },
    {
     "name": "stdout",
     "output_type": "stream",
     "text": [
      "model base train_1.0 6.529887348288278 6.109244931988363\n"
     ]
    },
    {
     "name": "stderr",
     "output_type": "stream",
     "text": [
      "100%|█████████▉| 209/210 [00:52<00:00,  1.02it/s]"
     ]
    },
    {
     "name": "stdout",
     "output_type": "stream",
     "text": [
      "model linReg + 6.495296797812039 6.059964322312205\n"
     ]
    },
    {
     "name": "stderr",
     "output_type": "stream",
     "text": [
      "100%|██████████| 210/210 [00:54<00:00,  3.85it/s]"
     ]
    },
    {
     "name": "stdout",
     "output_type": "stream",
     "text": [
      "model linReg + poly 6.495296855904745 6.059964676053053\n"
     ]
    },
    {
     "name": "stderr",
     "output_type": "stream",
     "text": [
      "\n"
     ]
    }
   ],
   "source": [
    "# models_dict = {**models_base, **models_Lin, **model_lasso, **model_lasso_poly, **model_ridge, **model_ridge_poly, **models_xgb}\n",
    "models_dict = {**models_base, **models_Lin}\n",
    "\n",
    "\n",
    "score=[]\n",
    "data_res=[]\n",
    "for name, pipe in tqdm(models_dict.items()):\n",
    "    \n",
    "    model, preprocess = pipe\n",
    "    df_res_train, df_res_test, mae_train, mae_test = train_test_score_fast(df_train_raw, df_test_raw, model=model, preprocess=preprocess)\n",
    "    score.append((name, mae_train, mae_test))\n",
    "    data_res.append((name, df_res_train, df_res_test))\n",
    "    print(name, mae_train, mae_test)"
   ]
  },
  {
   "cell_type": "code",
   "execution_count": 9,
   "metadata": {},
   "outputs": [
    {
     "data": {
      "text/html": [
       "<div>\n",
       "<style scoped>\n",
       "    .dataframe tbody tr th:only-of-type {\n",
       "        vertical-align: middle;\n",
       "    }\n",
       "\n",
       "    .dataframe tbody tr th {\n",
       "        vertical-align: top;\n",
       "    }\n",
       "\n",
       "    .dataframe thead th {\n",
       "        text-align: right;\n",
       "    }\n",
       "</style>\n",
       "<table border=\"1\" class=\"dataframe\">\n",
       "  <thead>\n",
       "    <tr style=\"text-align: right;\">\n",
       "      <th></th>\n",
       "      <th>score_train</th>\n",
       "      <th>score_test</th>\n",
       "      <th>score_rel_null_train</th>\n",
       "      <th>score_rel_null_test</th>\n",
       "    </tr>\n",
       "  </thead>\n",
       "  <tbody>\n",
       "    <tr>\n",
       "      <th>model base train_0.06</th>\n",
       "      <td>6.494671</td>\n",
       "      <td>6.059767</td>\n",
       "      <td>0.000444</td>\n",
       "      <td>0.002645</td>\n",
       "    </tr>\n",
       "    <tr>\n",
       "      <th>model base all_0.06</th>\n",
       "      <td>6.494670</td>\n",
       "      <td>6.059767</td>\n",
       "      <td>0.000457</td>\n",
       "      <td>0.002640</td>\n",
       "    </tr>\n",
       "    <tr>\n",
       "      <th>model base train_0.05</th>\n",
       "      <td>6.494751</td>\n",
       "      <td>6.059772</td>\n",
       "      <td>-0.000789</td>\n",
       "      <td>0.002559</td>\n",
       "    </tr>\n",
       "    <tr>\n",
       "      <th>model base train_0.07</th>\n",
       "      <td>6.494600</td>\n",
       "      <td>6.059772</td>\n",
       "      <td>0.001540</td>\n",
       "      <td>0.002558</td>\n",
       "    </tr>\n",
       "    <tr>\n",
       "      <th>model base all_0.05</th>\n",
       "      <td>6.494750</td>\n",
       "      <td>6.059772</td>\n",
       "      <td>-0.000776</td>\n",
       "      <td>0.002556</td>\n",
       "    </tr>\n",
       "    <tr>\n",
       "      <th>model base all_0.07</th>\n",
       "      <td>6.494599</td>\n",
       "      <td>6.059772</td>\n",
       "      <td>0.001553</td>\n",
       "      <td>0.002553</td>\n",
       "    </tr>\n",
       "    <tr>\n",
       "      <th>model base train_0.08</th>\n",
       "      <td>6.494539</td>\n",
       "      <td>6.059789</td>\n",
       "      <td>0.002481</td>\n",
       "      <td>0.002283</td>\n",
       "    </tr>\n",
       "    <tr>\n",
       "      <th>model base train_0.04</th>\n",
       "      <td>6.494841</td>\n",
       "      <td>6.059789</td>\n",
       "      <td>-0.002171</td>\n",
       "      <td>0.002277</td>\n",
       "    </tr>\n",
       "    <tr>\n",
       "      <th>model base all_0.08</th>\n",
       "      <td>6.494538</td>\n",
       "      <td>6.059789</td>\n",
       "      <td>0.002495</td>\n",
       "      <td>0.002277</td>\n",
       "    </tr>\n",
       "    <tr>\n",
       "      <th>model base all_0.04</th>\n",
       "      <td>6.494840</td>\n",
       "      <td>6.059789</td>\n",
       "      <td>-0.002158</td>\n",
       "      <td>0.002274</td>\n",
       "    </tr>\n",
       "    <tr>\n",
       "      <th>model base train_0.09</th>\n",
       "      <td>6.494487</td>\n",
       "      <td>6.059816</td>\n",
       "      <td>0.003282</td>\n",
       "      <td>0.001829</td>\n",
       "    </tr>\n",
       "    <tr>\n",
       "      <th>model base all_0.09</th>\n",
       "      <td>6.494486</td>\n",
       "      <td>6.059817</td>\n",
       "      <td>0.003295</td>\n",
       "      <td>0.001823</td>\n",
       "    </tr>\n",
       "    <tr>\n",
       "      <th>model base train_0.03</th>\n",
       "      <td>6.494940</td>\n",
       "      <td>6.059817</td>\n",
       "      <td>-0.003701</td>\n",
       "      <td>0.001820</td>\n",
       "    </tr>\n",
       "    <tr>\n",
       "      <th>model base all_0.03</th>\n",
       "      <td>6.494939</td>\n",
       "      <td>6.059817</td>\n",
       "      <td>-0.003688</td>\n",
       "      <td>0.001817</td>\n",
       "    </tr>\n",
       "    <tr>\n",
       "      <th>model base train_0.02</th>\n",
       "      <td>6.495049</td>\n",
       "      <td>6.059855</td>\n",
       "      <td>-0.005379</td>\n",
       "      <td>0.001190</td>\n",
       "    </tr>\n",
       "    <tr>\n",
       "      <th>model base train_0.1</th>\n",
       "      <td>6.494445</td>\n",
       "      <td>6.059855</td>\n",
       "      <td>0.003933</td>\n",
       "      <td>0.001188</td>\n",
       "    </tr>\n",
       "    <tr>\n",
       "      <th>model base train.mean</th>\n",
       "      <td>6.494445</td>\n",
       "      <td>6.059855</td>\n",
       "      <td>0.003933</td>\n",
       "      <td>0.001188</td>\n",
       "    </tr>\n",
       "    <tr>\n",
       "      <th>model base all_0.02</th>\n",
       "      <td>6.495048</td>\n",
       "      <td>6.059855</td>\n",
       "      <td>-0.005366</td>\n",
       "      <td>0.001187</td>\n",
       "    </tr>\n",
       "    <tr>\n",
       "      <th>model base all.mean</th>\n",
       "      <td>6.494444</td>\n",
       "      <td>6.059856</td>\n",
       "      <td>0.003946</td>\n",
       "      <td>0.001181</td>\n",
       "    </tr>\n",
       "    <tr>\n",
       "      <th>model base all_0.1</th>\n",
       "      <td>6.494444</td>\n",
       "      <td>6.059856</td>\n",
       "      <td>0.003946</td>\n",
       "      <td>0.001181</td>\n",
       "    </tr>\n",
       "    <tr>\n",
       "      <th>model base train_0.11</th>\n",
       "      <td>6.494412</td>\n",
       "      <td>6.059905</td>\n",
       "      <td>0.004428</td>\n",
       "      <td>0.000369</td>\n",
       "    </tr>\n",
       "    <tr>\n",
       "      <th>model base all_0.11</th>\n",
       "      <td>6.494412</td>\n",
       "      <td>6.059905</td>\n",
       "      <td>0.004441</td>\n",
       "      <td>0.000362</td>\n",
       "    </tr>\n",
       "    <tr>\n",
       "      <th>model base train_0.01</th>\n",
       "      <td>6.495168</td>\n",
       "      <td>6.059905</td>\n",
       "      <td>-0.007212</td>\n",
       "      <td>0.000360</td>\n",
       "    </tr>\n",
       "    <tr>\n",
       "      <th>model base all_0.01</th>\n",
       "      <td>6.495167</td>\n",
       "      <td>6.059905</td>\n",
       "      <td>-0.007199</td>\n",
       "      <td>0.000358</td>\n",
       "    </tr>\n",
       "    <tr>\n",
       "      <th>model baseline</th>\n",
       "      <td>6.494700</td>\n",
       "      <td>6.059927</td>\n",
       "      <td>0.000000</td>\n",
       "      <td>0.000000</td>\n",
       "    </tr>\n",
       "    <tr>\n",
       "      <th>model linReg +</th>\n",
       "      <td>6.495297</td>\n",
       "      <td>6.059964</td>\n",
       "      <td>-0.009190</td>\n",
       "      <td>-0.000614</td>\n",
       "    </tr>\n",
       "    <tr>\n",
       "      <th>model linReg + poly</th>\n",
       "      <td>6.495297</td>\n",
       "      <td>6.059965</td>\n",
       "      <td>-0.009190</td>\n",
       "      <td>-0.000620</td>\n",
       "    </tr>\n",
       "    <tr>\n",
       "      <th>model base train_0.12</th>\n",
       "      <td>6.494390</td>\n",
       "      <td>6.059966</td>\n",
       "      <td>0.004773</td>\n",
       "      <td>-0.000638</td>\n",
       "    </tr>\n",
       "    <tr>\n",
       "      <th>model base all_0.12</th>\n",
       "      <td>6.494389</td>\n",
       "      <td>6.059966</td>\n",
       "      <td>0.004786</td>\n",
       "      <td>-0.000646</td>\n",
       "    </tr>\n",
       "    <tr>\n",
       "      <th>model cst train.mean</th>\n",
       "      <td>6.495297</td>\n",
       "      <td>6.059967</td>\n",
       "      <td>-0.009191</td>\n",
       "      <td>-0.000660</td>\n",
       "    </tr>\n",
       "    <tr>\n",
       "      <th>model cst all.mean</th>\n",
       "      <td>6.495296</td>\n",
       "      <td>6.059967</td>\n",
       "      <td>-0.009177</td>\n",
       "      <td>-0.000662</td>\n",
       "    </tr>\n",
       "    <tr>\n",
       "      <th>model base train_0.13</th>\n",
       "      <td>6.494377</td>\n",
       "      <td>6.060038</td>\n",
       "      <td>0.004968</td>\n",
       "      <td>-0.001832</td>\n",
       "    </tr>\n",
       "    <tr>\n",
       "      <th>model base all_0.13</th>\n",
       "      <td>6.494376</td>\n",
       "      <td>6.060039</td>\n",
       "      <td>0.004981</td>\n",
       "      <td>-0.001840</td>\n",
       "    </tr>\n",
       "    <tr>\n",
       "      <th>model null</th>\n",
       "      <td>6.495554</td>\n",
       "      <td>6.060085</td>\n",
       "      <td>-0.013156</td>\n",
       "      <td>-0.002611</td>\n",
       "    </tr>\n",
       "    <tr>\n",
       "      <th>model base train_0.14</th>\n",
       "      <td>6.494374</td>\n",
       "      <td>6.060122</td>\n",
       "      <td>0.005012</td>\n",
       "      <td>-0.003221</td>\n",
       "    </tr>\n",
       "    <tr>\n",
       "      <th>model base all_0.14</th>\n",
       "      <td>6.494374</td>\n",
       "      <td>6.060123</td>\n",
       "      <td>0.005025</td>\n",
       "      <td>-0.003229</td>\n",
       "    </tr>\n",
       "    <tr>\n",
       "      <th>model base train_0.15</th>\n",
       "      <td>6.494381</td>\n",
       "      <td>6.060217</td>\n",
       "      <td>0.004915</td>\n",
       "      <td>-0.004789</td>\n",
       "    </tr>\n",
       "    <tr>\n",
       "      <th>model base all_0.15</th>\n",
       "      <td>6.494380</td>\n",
       "      <td>6.060218</td>\n",
       "      <td>0.004928</td>\n",
       "      <td>-0.004798</td>\n",
       "    </tr>\n",
       "    <tr>\n",
       "      <th>model base train_0.16</th>\n",
       "      <td>6.494397</td>\n",
       "      <td>6.060323</td>\n",
       "      <td>0.004666</td>\n",
       "      <td>-0.006539</td>\n",
       "    </tr>\n",
       "    <tr>\n",
       "      <th>model base all_0.16</th>\n",
       "      <td>6.494396</td>\n",
       "      <td>6.060324</td>\n",
       "      <td>0.004679</td>\n",
       "      <td>-0.006549</td>\n",
       "    </tr>\n",
       "    <tr>\n",
       "      <th>model imbalance adj all</th>\n",
       "      <td>6.494410</td>\n",
       "      <td>6.060349</td>\n",
       "      <td>0.004466</td>\n",
       "      <td>-0.006961</td>\n",
       "    </tr>\n",
       "    <tr>\n",
       "      <th>model base train_0.17</th>\n",
       "      <td>6.494423</td>\n",
       "      <td>6.060440</td>\n",
       "      <td>0.004272</td>\n",
       "      <td>-0.008470</td>\n",
       "    </tr>\n",
       "    <tr>\n",
       "      <th>model base all_0.17</th>\n",
       "      <td>6.494422</td>\n",
       "      <td>6.060441</td>\n",
       "      <td>0.004284</td>\n",
       "      <td>-0.008480</td>\n",
       "    </tr>\n",
       "    <tr>\n",
       "      <th>model base train_0.18</th>\n",
       "      <td>6.494458</td>\n",
       "      <td>6.060569</td>\n",
       "      <td>0.003733</td>\n",
       "      <td>-0.010585</td>\n",
       "    </tr>\n",
       "    <tr>\n",
       "      <th>model base all_0.18</th>\n",
       "      <td>6.494457</td>\n",
       "      <td>6.060569</td>\n",
       "      <td>0.003746</td>\n",
       "      <td>-0.010596</td>\n",
       "    </tr>\n",
       "    <tr>\n",
       "      <th>model imbalance adj train</th>\n",
       "      <td>6.494487</td>\n",
       "      <td>6.060654</td>\n",
       "      <td>0.003276</td>\n",
       "      <td>-0.011996</td>\n",
       "    </tr>\n",
       "    <tr>\n",
       "      <th>model base train_0.19</th>\n",
       "      <td>6.494502</td>\n",
       "      <td>6.060708</td>\n",
       "      <td>0.003044</td>\n",
       "      <td>-0.012883</td>\n",
       "    </tr>\n",
       "    <tr>\n",
       "      <th>model base all_0.19</th>\n",
       "      <td>6.494501</td>\n",
       "      <td>6.060709</td>\n",
       "      <td>0.003057</td>\n",
       "      <td>-0.012895</td>\n",
       "    </tr>\n",
       "    <tr>\n",
       "      <th>model base train_0.2</th>\n",
       "      <td>6.494556</td>\n",
       "      <td>6.060858</td>\n",
       "      <td>0.002212</td>\n",
       "      <td>-0.015356</td>\n",
       "    </tr>\n",
       "    <tr>\n",
       "      <th>model base all_0.2</th>\n",
       "      <td>6.494555</td>\n",
       "      <td>6.060858</td>\n",
       "      <td>0.002225</td>\n",
       "      <td>-0.015368</td>\n",
       "    </tr>\n",
       "  </tbody>\n",
       "</table>\n",
       "</div>"
      ],
      "text/plain": [
       "                           score_train  score_test  score_rel_null_train  \\\n",
       "model base train_0.06         6.494671    6.059767              0.000444   \n",
       "model base all_0.06           6.494670    6.059767              0.000457   \n",
       "model base train_0.05         6.494751    6.059772             -0.000789   \n",
       "model base train_0.07         6.494600    6.059772              0.001540   \n",
       "model base all_0.05           6.494750    6.059772             -0.000776   \n",
       "model base all_0.07           6.494599    6.059772              0.001553   \n",
       "model base train_0.08         6.494539    6.059789              0.002481   \n",
       "model base train_0.04         6.494841    6.059789             -0.002171   \n",
       "model base all_0.08           6.494538    6.059789              0.002495   \n",
       "model base all_0.04           6.494840    6.059789             -0.002158   \n",
       "model base train_0.09         6.494487    6.059816              0.003282   \n",
       "model base all_0.09           6.494486    6.059817              0.003295   \n",
       "model base train_0.03         6.494940    6.059817             -0.003701   \n",
       "model base all_0.03           6.494939    6.059817             -0.003688   \n",
       "model base train_0.02         6.495049    6.059855             -0.005379   \n",
       "model base train_0.1          6.494445    6.059855              0.003933   \n",
       "model base train.mean         6.494445    6.059855              0.003933   \n",
       "model base all_0.02           6.495048    6.059855             -0.005366   \n",
       "model base all.mean           6.494444    6.059856              0.003946   \n",
       "model base all_0.1            6.494444    6.059856              0.003946   \n",
       "model base train_0.11         6.494412    6.059905              0.004428   \n",
       "model base all_0.11           6.494412    6.059905              0.004441   \n",
       "model base train_0.01         6.495168    6.059905             -0.007212   \n",
       "model base all_0.01           6.495167    6.059905             -0.007199   \n",
       "model baseline                6.494700    6.059927              0.000000   \n",
       "model linReg +                6.495297    6.059964             -0.009190   \n",
       "model linReg + poly           6.495297    6.059965             -0.009190   \n",
       "model base train_0.12         6.494390    6.059966              0.004773   \n",
       "model base all_0.12           6.494389    6.059966              0.004786   \n",
       "model cst train.mean          6.495297    6.059967             -0.009191   \n",
       "model cst all.mean            6.495296    6.059967             -0.009177   \n",
       "model base train_0.13         6.494377    6.060038              0.004968   \n",
       "model base all_0.13           6.494376    6.060039              0.004981   \n",
       "model null                    6.495554    6.060085             -0.013156   \n",
       "model base train_0.14         6.494374    6.060122              0.005012   \n",
       "model base all_0.14           6.494374    6.060123              0.005025   \n",
       "model base train_0.15         6.494381    6.060217              0.004915   \n",
       "model base all_0.15           6.494380    6.060218              0.004928   \n",
       "model base train_0.16         6.494397    6.060323              0.004666   \n",
       "model base all_0.16           6.494396    6.060324              0.004679   \n",
       "model imbalance adj all       6.494410    6.060349              0.004466   \n",
       "model base train_0.17         6.494423    6.060440              0.004272   \n",
       "model base all_0.17           6.494422    6.060441              0.004284   \n",
       "model base train_0.18         6.494458    6.060569              0.003733   \n",
       "model base all_0.18           6.494457    6.060569              0.003746   \n",
       "model imbalance adj train     6.494487    6.060654              0.003276   \n",
       "model base train_0.19         6.494502    6.060708              0.003044   \n",
       "model base all_0.19           6.494501    6.060709              0.003057   \n",
       "model base train_0.2          6.494556    6.060858              0.002212   \n",
       "model base all_0.2            6.494555    6.060858              0.002225   \n",
       "\n",
       "                           score_rel_null_test  \n",
       "model base train_0.06                 0.002645  \n",
       "model base all_0.06                   0.002640  \n",
       "model base train_0.05                 0.002559  \n",
       "model base train_0.07                 0.002558  \n",
       "model base all_0.05                   0.002556  \n",
       "model base all_0.07                   0.002553  \n",
       "model base train_0.08                 0.002283  \n",
       "model base train_0.04                 0.002277  \n",
       "model base all_0.08                   0.002277  \n",
       "model base all_0.04                   0.002274  \n",
       "model base train_0.09                 0.001829  \n",
       "model base all_0.09                   0.001823  \n",
       "model base train_0.03                 0.001820  \n",
       "model base all_0.03                   0.001817  \n",
       "model base train_0.02                 0.001190  \n",
       "model base train_0.1                  0.001188  \n",
       "model base train.mean                 0.001188  \n",
       "model base all_0.02                   0.001187  \n",
       "model base all.mean                   0.001181  \n",
       "model base all_0.1                    0.001181  \n",
       "model base train_0.11                 0.000369  \n",
       "model base all_0.11                   0.000362  \n",
       "model base train_0.01                 0.000360  \n",
       "model base all_0.01                   0.000358  \n",
       "model baseline                        0.000000  \n",
       "model linReg +                       -0.000614  \n",
       "model linReg + poly                  -0.000620  \n",
       "model base train_0.12                -0.000638  \n",
       "model base all_0.12                  -0.000646  \n",
       "model cst train.mean                 -0.000660  \n",
       "model cst all.mean                   -0.000662  \n",
       "model base train_0.13                -0.001832  \n",
       "model base all_0.13                  -0.001840  \n",
       "model null                           -0.002611  \n",
       "model base train_0.14                -0.003221  \n",
       "model base all_0.14                  -0.003229  \n",
       "model base train_0.15                -0.004789  \n",
       "model base all_0.15                  -0.004798  \n",
       "model base train_0.16                -0.006539  \n",
       "model base all_0.16                  -0.006549  \n",
       "model imbalance adj all              -0.006961  \n",
       "model base train_0.17                -0.008470  \n",
       "model base all_0.17                  -0.008480  \n",
       "model base train_0.18                -0.010585  \n",
       "model base all_0.18                  -0.010596  \n",
       "model imbalance adj train            -0.011996  \n",
       "model base train_0.19                -0.012883  \n",
       "model base all_0.19                  -0.012895  \n",
       "model base train_0.2                 -0.015356  \n",
       "model base all_0.2                   -0.015368  "
      ]
     },
     "execution_count": 9,
     "metadata": {},
     "output_type": "execute_result"
    },
    {
     "data": {
      "image/png": "[encoded data removed]",
      "text/plain": [
       "<Figure size 640x480 with 1 Axes>"
      ]
     },
     "metadata": {},
     "output_type": "display_data"
    },
    {
     "data": {
      "image/png": "[encoded data removed]",
      "text/plain": [
       "<Figure size 640x480 with 1 Axes>"
      ]
     },
     "metadata": {},
     "output_type": "display_data"
    }
   ],
   "source": [
    "name, score_train, score_test = zip(*score)\n",
    "df_score = pd.DataFrame({\n",
    "    'score_train':score_train,\n",
    "    'score_test':score_test}, index = name\n",
    ")\n",
    "df_score['score_rel_null_train'] = (-df_score['score_train']+df_score.loc['model baseline', 'score_train'])/df_score.loc['model baseline', 'score_train']*100\n",
    "df_score['score_rel_null_test'] = (-df_score['score_test']+df_score.loc['model baseline', 'score_test'])/df_score.loc['model baseline', 'score_test']*100\n",
    "\n",
    "df_score.sort_values(by='score_test',inplace=True)\n",
    "df_score[['score_train', 'score_test']].iloc[:].plot.barh()\n",
    "df_score[['score_rel_null_train', 'score_rel_null_test']].iloc[:20].plot.barh()\n",
    "df_score.head(50)"
   ]
  }
 ],
 "metadata": {
  "kernelspec": {
   "display_name": ".env",
   "language": "python",
   "name": "python3"
  },
  "language_info": {
   "codemirror_mode": {
    "name": "ipython",
    "version": 3
   },
   "file_extension": ".py",
   "mimetype": "text/x-python",
   "name": "python",
   "nbconvert_exporter": "python",
   "pygments_lexer": "ipython3",
   "version": "3.11.6"
  }
 },
 "nbformat": 4,
 "nbformat_minor": 2
}
